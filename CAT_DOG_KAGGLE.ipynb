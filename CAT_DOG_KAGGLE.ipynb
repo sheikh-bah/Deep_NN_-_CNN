{
  "nbformat": 4,
  "nbformat_minor": 0,
  "metadata": {
    "colab": {
      "name": "CAT_DOG_KAGGLE.ipynb",
      "provenance": [],
      "collapsed_sections": [],
      "authorship_tag": "ABX9TyPpkBaB7Ko1k6TRLUYhPQsC",
      "include_colab_link": true
    },
    "kernelspec": {
      "name": "python3",
      "display_name": "Python 3"
    }
  },
  "cells": [
    {
      "cell_type": "markdown",
      "metadata": {
        "id": "view-in-github",
        "colab_type": "text"
      },
      "source": [
        "<a href=\"https://colab.research.google.com/github/sheikh-bah/Deep_NN_-_CNN/blob/main/CAT_DOG_KAGGLE.ipynb\" target=\"_parent\"><img src=\"https://colab.research.google.com/assets/colab-badge.svg\" alt=\"Open In Colab\"/></a>"
      ]
    },
    {
      "cell_type": "code",
      "metadata": {
        "id": "w85zq-5hWfUW"
      },
      "source": [
        "#@title Licensed under the Apache License, Version 2.0 (the \"License\");\r\n",
        "# you may not use this file except in compliance with the License.\r\n",
        "# You may obtain a copy of the License at\r\n",
        "#\r\n",
        "# https://www.apache.org/licenses/LICENSE-2.0\r\n",
        "#\r\n",
        "# Unless required by applicable law or agreed to in writing, software\r\n",
        "# distributed under the License is distributed on an \"AS IS\" BASIS,\r\n",
        "# WITHOUT WARRANTIES OR CONDITIONS OF ANY KIND, either express or implied.\r\n",
        "# See the License for the specific language governing permissions and\r\n",
        "# limitations under the License."
      ],
      "execution_count": 3,
      "outputs": []
    },
    {
      "cell_type": "code",
      "metadata": {
        "id": "BbhjlgfycHWU"
      },
      "source": [
        "import os\r\n",
        "import zipfile\r\n",
        "import random\r\n",
        "from shutil import copyfile"
      ],
      "execution_count": 4,
      "outputs": []
    },
    {
      "cell_type": "code",
      "metadata": {
        "id": "1cOxjS-lczqY",
        "colab": {
          "base_uri": "https://localhost:8080/"
        },
        "outputId": "2a36c297-842b-4766-c668-5917692cbdbd"
      },
      "source": [
        "!wget --no-check-certificate \\\r\n",
        "    \"https://download.microsoft.com/download/3/E/1/3E1C3F21-ECDB-4869-8368-6DEBA77B919F/kagglecatsanddogs_3367a.zip\" \\\r\n",
        "    -O \"/tmp/cats-and-dogs.zip\"\r\n",
        "\r\n",
        "# our zip file\r\n",
        "local_zip =  '/tmp/cats-and-dogs.zip'\r\n",
        "zip_ref = zipfile.ZipFile(local_zip, 'r')\r\n",
        "zip_ref.extractall('/tmp')\r\n",
        "zip_ref.close()\r\n"
      ],
      "execution_count": 5,
      "outputs": [
        {
          "output_type": "stream",
          "text": [
            "--2021-03-04 15:17:25--  https://download.microsoft.com/download/3/E/1/3E1C3F21-ECDB-4869-8368-6DEBA77B919F/kagglecatsanddogs_3367a.zip\n",
            "Resolving download.microsoft.com (download.microsoft.com)... 104.123.200.136, 2600:1402:6800:282::e59, 2600:1402:6800:281::e59, ...\n",
            "Connecting to download.microsoft.com (download.microsoft.com)|104.123.200.136|:443... connected.\n",
            "HTTP request sent, awaiting response... 200 OK\n",
            "Length: 824894548 (787M) [application/octet-stream]\n",
            "Saving to: ‘/tmp/cats-and-dogs.zip’\n",
            "\n",
            "/tmp/cats-and-dogs. 100%[===================>] 786.68M   107MB/s    in 7.0s    \n",
            "\n",
            "2021-03-04 15:17:32 (113 MB/s) - ‘/tmp/cats-and-dogs.zip’ saved [824894548/824894548]\n",
            "\n"
          ],
          "name": "stdout"
        }
      ]
    },
    {
      "cell_type": "code",
      "metadata": {
        "colab": {
          "base_uri": "https://localhost:8080/"
        },
        "id": "ZfbbP5eYgRFO",
        "outputId": "dd10acef-1341-4f94-dccd-fe1416877874"
      },
      "source": [
        "print(len(os.listdir('/tmp/PetImages/Cat/')))\r\n",
        "print(len(os.listdir('/tmp/PetImages/Dog/')))"
      ],
      "execution_count": 6,
      "outputs": [
        {
          "output_type": "stream",
          "text": [
            "12501\n",
            "12501\n"
          ],
          "name": "stdout"
        }
      ]
    },
    {
      "cell_type": "code",
      "metadata": {
        "id": "ebyFU_nqjM0j"
      },
      "source": [
        "# Create a directory for training and validation\r\n",
        "# subdirectories for cat and dogs\r\n",
        "try:\r\n",
        "    os.mkdir('/tmp/cats-v-dogs')\r\n",
        "    os.mkdir('/tmp/cats-v-dogs/training')\r\n",
        "    os.mkdir('/tmp/cats-v-dogs/validation')\r\n",
        "    os.mkdir('/tmp/cats-v-dogs/training/cats')\r\n",
        "    os.mkdir('/tmp/cats-v-dogs/training/dogs')\r\n",
        "    os.mkdir('/tmp/cats-v-dogs/validation/cats')\r\n",
        "    os.mkdir('/tmp/cats-v-dogs/validation/dogs')\r\n",
        "except OSError:\r\n",
        "  pass\r\n"
      ],
      "execution_count": 7,
      "outputs": []
    },
    {
      "cell_type": "code",
      "metadata": {
        "id": "D8_SwvIPyAaK"
      },
      "source": [
        "def split_data(SOURCE, TRAINING, VALIDATION, SPLIT_SIZE):\r\n",
        "  files = []\r\n",
        "\r\n",
        "  for list_of_data in os.listdir(SOURCE):\r\n",
        "    x = SOURCE + list_of_data\r\n",
        "    # All images should be checked, and if they have a zero file length,\r\n",
        "    # they will not be copied over.\r\n",
        "    if os.path.getsize(x) > 0:  # os.path.getsize(PATH) gives you the size of the file.\r\n",
        "     files.append(list_of_data)\r\n",
        "    else:\r\n",
        "       print(list_of_data + ' Zero length, so ignoring')\r\n",
        "\r\n",
        "\r\n",
        "  Training_data = int(len(files) * SPLIT_SIZE) # a SPLIT SIZE to determine the portion.\r\n",
        "  Validation_data = int(len(files) - Training_data)\r\n",
        "  # random.sample(list, len(list)) shuffles a list\r\n",
        "  Shuffled_data = random.sample(files, len(files))\r\n",
        "  training_set = Shuffled_data[0:Training_data]\r\n",
        "  validation_set = Shuffled_data[:Validation_data]\r\n",
        "\r\n",
        "\r\n",
        "  for list_of_data in training_set:\r\n",
        "    new_file = SOURCE + list_of_data\r\n",
        "    destination = TRAINING + list_of_data\r\n",
        "    # copyfile(source, destination) copies a file from source to destination\r\n",
        "    copyfile(new_file, destination)\r\n",
        "\r\n",
        "  for list_of_data in validation_set:\r\n",
        "    new_file = SOURCE + list_of_data\r\n",
        "    destination = VALIDATION + list_of_data\r\n",
        "    copyfile(new_file, destination)\r\n"
      ],
      "execution_count": 8,
      "outputs": []
    },
    {
      "cell_type": "code",
      "metadata": {
        "id": "qJ39P_y0XPQp"
      },
      "source": [
        "Cat_Source_dir = \"/tmp/PetImages/Cat/\"\r\n",
        "training_cats_dir = \"/tmp/cats-v-dogs/training/cats/\"\r\n",
        "validation_cats_dir = \"/tmp/cats-v-dogs/validation/cats/\"\r\n",
        "\r\n",
        "Dog_Source_dir = \"/tmp/PetImages/Dog/\"\r\n",
        "training_dogs_dir = \"/tmp/cats-v-dogs/training/dogs/\"\r\n",
        "validation_dogs_dir =  \"/tmp/cats-v-dogs/validation/dogs/\"\r\n",
        "\r\n",
        "split_size = .9\r\n",
        "\r\n",
        "import tensorflow as tf\r\n",
        "class CallBack(tf.keras.callbacks.Callback):\r\n",
        "  def on_epoch_end(self, epoch, logs = {}):\r\n",
        "    if(logs.get('accuracy') > 0.97):\r\n",
        "      print('\\nReached a high accuracy, so cancelling training')\r\n",
        "      self.model.stop_training = True\r\n",
        "\r\n",
        "Callbacks = CallBack()"
      ],
      "execution_count": 9,
      "outputs": []
    },
    {
      "cell_type": "code",
      "metadata": {
        "id": "lgIJ1xEQ7GNR",
        "colab": {
          "base_uri": "https://localhost:8080/"
        },
        "outputId": "20aa1e10-b38d-4792-c165-58ec5d94c1ff"
      },
      "source": [
        "split_data(Cat_Source_dir, training_cats_dir, validation_cats_dir, split_size)"
      ],
      "execution_count": 10,
      "outputs": [
        {
          "output_type": "stream",
          "text": [
            "666.jpg Zero length, so ignoring\n"
          ],
          "name": "stdout"
        }
      ]
    },
    {
      "cell_type": "code",
      "metadata": {
        "id": "223wnvfPEg5S",
        "colab": {
          "base_uri": "https://localhost:8080/"
        },
        "outputId": "86bfe1b8-386a-4dc5-98bd-3afd1ac94d52"
      },
      "source": [
        "split_data(Dog_Source_dir, training_dogs_dir, validation_dogs_dir, split_size)"
      ],
      "execution_count": 11,
      "outputs": [
        {
          "output_type": "stream",
          "text": [
            "11702.jpg Zero length, so ignoring\n"
          ],
          "name": "stdout"
        }
      ]
    },
    {
      "cell_type": "code",
      "metadata": {
        "colab": {
          "base_uri": "https://localhost:8080/"
        },
        "id": "5meUu5dcD6y0",
        "outputId": "54ebe224-55cd-4b55-d153-4afaaeb9b25c"
      },
      "source": [
        "print(\"The training data of cats :\",len(os.listdir(training_cats_dir )))\r\n",
        "print(\"The validation data of cats :\",len(os.listdir(validation_cats_dir)))\r\n",
        "print(\"The training data of dogs :\",len(os.listdir(training_dogs_dir)))\r\n",
        "print(\"The validation data of dogs :\",len(os.listdir(validation_dogs_dir)))"
      ],
      "execution_count": 12,
      "outputs": [
        {
          "output_type": "stream",
          "text": [
            "The training data of cats : 11250\n",
            "The validation data of cats : 1250\n",
            "The training data of dogs : 11250\n",
            "The validation data of dogs : 1250\n"
          ],
          "name": "stdout"
        }
      ]
    },
    {
      "cell_type": "markdown",
      "metadata": {
        "id": "O0XCZO1ImJ8l"
      },
      "source": [
        "# We build our model\r\n"
      ]
    },
    {
      "cell_type": "code",
      "metadata": {
        "id": "WcwsJBq1mF3I"
      },
      "source": [
        "import tensorflow as tf\r\n",
        "from tensorflow import keras\r\n"
      ],
      "execution_count": 13,
      "outputs": []
    },
    {
      "cell_type": "code",
      "metadata": {
        "id": "Ly_Eou7SmjzO"
      },
      "source": [
        "model =tf.keras.models.Sequential([\r\n",
        "                                tf.keras.layers.Conv2D(16, (3,3), input_shape=(150, 150, 3),activation = 'relu'),\r\n",
        "                                tf.keras.layers.MaxPooling2D(2,2),\r\n",
        "                                tf.keras.layers.Conv2D(32,(3,3), activation = 'relu'),\r\n",
        "                                tf.keras.layers.MaxPooling2D(2,2),\r\n",
        "                                tf.keras.layers.Conv2D(64, (3,3), activation = 'relu'),\r\n",
        "                                tf.keras.layers.MaxPooling2D(2,2),\r\n",
        "                                tf.keras.layers.Flatten(),\r\n",
        "                                tf.keras.layers.Dense(512, activation= 'relu'),\r\n",
        "                                tf.keras.layers.Dense(1, activation = 'sigmoid')\r\n",
        "])"
      ],
      "execution_count": 14,
      "outputs": []
    },
    {
      "cell_type": "code",
      "metadata": {
        "id": "rf7oQ2Mx6ykd"
      },
      "source": [
        "from keras.optimizers import RMSprop\r\n",
        "model.compile(optimizer= RMSprop(lr = 0.001), loss = 'binary_crossentropy', metrics =['accuracy'])"
      ],
      "execution_count": 15,
      "outputs": []
    },
    {
      "cell_type": "markdown",
      "metadata": {
        "id": "a8a00Pl7-Pnk"
      },
      "source": [
        "# Data preprocessing\r\n",
        "Set up data generators that will read pictures in our folders,convert them to float32 tensors, and feed them(with their labels) to our network.\r\n",
        "\r\n",
        "We will have one generator for the training and validation images. Our generators will yield batches of images and their labels"
      ]
    },
    {
      "cell_type": "code",
      "metadata": {
        "colab": {
          "base_uri": "https://localhost:8080/"
        },
        "id": "CPElFMeo7MX3",
        "outputId": "c41add2b-2e22-45e0-cf7f-c2a66c6c02e2"
      },
      "source": [
        "from keras.preprocessing.image import ImageDataGenerator\r\n",
        "\r\n",
        "# We rescale our image\r\n",
        "# Preprocess by normalizing the pixel values to be in the range [0,1]\r\n",
        "training_datagen = ImageDataGenerator(rescale = 1/255)\r\n",
        "validation_datagen = ImageDataGenerator(rescale = 1/255)\r\n",
        "# Data generator allow us to instantiate generators and their labels\r\n",
        "training_generator =training_datagen.flow_from_directory(\r\n",
        "    '/tmp/cats-v-dogs/training', \r\n",
        "    target_size = (150,150),\r\n",
        "    batch_size = 20,\r\n",
        "    class_mode= 'binary'\r\n",
        "    )\r\n",
        "\r\n",
        "validation_generator =validation_datagen.flow_from_directory(\r\n",
        "    '/tmp/cats-v-dogs/validation',\r\n",
        "    target_size = (150, 150),\r\n",
        "    batch_size = 20,\r\n",
        "    class_mode = 'binary'\r\n",
        ")\r\n"
      ],
      "execution_count": 16,
      "outputs": [
        {
          "output_type": "stream",
          "text": [
            "Found 22498 images belonging to 2 classes.\n",
            "Found 2500 images belonging to 2 classes.\n"
          ],
          "name": "stdout"
        }
      ]
    },
    {
      "cell_type": "markdown",
      "metadata": {
        "id": "0c6tvHaLGUTX"
      },
      "source": [
        "# Training the model"
      ]
    },
    {
      "cell_type": "code",
      "metadata": {
        "colab": {
          "base_uri": "https://localhost:8080/"
        },
        "id": "1NGDkp4rDrgF",
        "outputId": "c321d6a5-2d3f-41e0-e4b1-6a773e8fca18"
      },
      "source": [
        "history = model.fit(\r\n",
        "    training_generator, \r\n",
        "    epochs = 15,verbose = 1,\r\n",
        "    validation_data = validation_generator\r\n",
        "    \r\n",
        ")"
      ],
      "execution_count": 17,
      "outputs": [
        {
          "output_type": "stream",
          "text": [
            "Epoch 1/15\n",
            "1125/1125 [==============================] - 563s 500ms/step - loss: 0.6319 - accuracy: 0.6550 - val_loss: 0.4742 - val_accuracy: 0.7804\n",
            "Epoch 2/15\n",
            "1125/1125 [==============================] - 560s 498ms/step - loss: 0.4606 - accuracy: 0.7842 - val_loss: 0.3819 - val_accuracy: 0.8232\n",
            "Epoch 3/15\n",
            "1125/1125 [==============================] - 558s 496ms/step - loss: 0.3977 - accuracy: 0.8233 - val_loss: 0.3364 - val_accuracy: 0.8644\n",
            "Epoch 4/15\n",
            "1125/1125 [==============================] - 552s 491ms/step - loss: 0.3361 - accuracy: 0.8569 - val_loss: 0.2596 - val_accuracy: 0.8996\n",
            "Epoch 5/15\n",
            "1125/1125 [==============================] - 552s 490ms/step - loss: 0.3071 - accuracy: 0.8750 - val_loss: 0.2643 - val_accuracy: 0.8936\n",
            "Epoch 6/15\n",
            "1125/1125 [==============================] - 552s 490ms/step - loss: 0.2729 - accuracy: 0.8911 - val_loss: 0.2420 - val_accuracy: 0.9128\n",
            "Epoch 7/15\n",
            "1125/1125 [==============================] - 552s 490ms/step - loss: 0.2598 - accuracy: 0.8987 - val_loss: 0.2179 - val_accuracy: 0.9100\n",
            "Epoch 8/15\n",
            "1125/1125 [==============================] - 562s 499ms/step - loss: 0.2345 - accuracy: 0.9077 - val_loss: 0.1925 - val_accuracy: 0.9264\n",
            "Epoch 9/15\n",
            "1125/1125 [==============================] - 560s 498ms/step - loss: 0.2383 - accuracy: 0.9112 - val_loss: 0.2216 - val_accuracy: 0.9152\n",
            "Epoch 10/15\n",
            "1125/1125 [==============================] - 556s 494ms/step - loss: 0.2341 - accuracy: 0.9160 - val_loss: 0.1898 - val_accuracy: 0.9448\n",
            "Epoch 11/15\n",
            "1125/1125 [==============================] - 558s 496ms/step - loss: 0.2224 - accuracy: 0.9192 - val_loss: 0.2156 - val_accuracy: 0.9068\n",
            "Epoch 12/15\n",
            "1125/1125 [==============================] - 561s 498ms/step - loss: 0.2291 - accuracy: 0.9183 - val_loss: 0.1240 - val_accuracy: 0.9516\n",
            "Epoch 13/15\n",
            "1125/1125 [==============================] - 564s 501ms/step - loss: 0.2134 - accuracy: 0.9272 - val_loss: 0.1866 - val_accuracy: 0.9348\n",
            "Epoch 14/15\n",
            "1125/1125 [==============================] - 567s 504ms/step - loss: 0.2125 - accuracy: 0.9262 - val_loss: 0.1298 - val_accuracy: 0.9544\n",
            "Epoch 15/15\n",
            "1125/1125 [==============================] - 563s 501ms/step - loss: 0.2066 - accuracy: 0.9267 - val_loss: 0.1847 - val_accuracy: 0.9348\n"
          ],
          "name": "stdout"
        }
      ]
    },
    {
      "cell_type": "markdown",
      "metadata": {
        "id": "tR9RX8pi6jgi"
      },
      "source": [
        ""
      ]
    },
    {
      "cell_type": "code",
      "metadata": {
        "id": "Pgs0aAPxHKcN",
        "colab": {
          "base_uri": "https://localhost:8080/",
          "height": 562
        },
        "outputId": "33b52724-764f-4761-e846-cbc5ff0ba2f0"
      },
      "source": [
        "# PLOT LOSS AND ACCURACY\r\n",
        "%matplotlib inline\r\n",
        "import matplotlib.image as img\r\n",
        "import matplotlib.pyplot as plt\r\n",
        "#-----------------------------------------------------------\r\n",
        "# Retrieve a list of list results on training and test data\r\n",
        "# sets for each training epoch\r\n",
        "#-----------------------------------------------------------\r\n",
        "acc= history.history['accuracy']\r\n",
        "val_acc = history.history['val_accuracy']\r\n",
        "loss = history.history['loss']\r\n",
        "val_loss = history.history['val_loss']\r\n",
        "\r\n",
        "epochs = range(len(acc)) # Get number of epochs\r\n",
        "\r\n",
        "\r\n",
        "#------------------------------------------------\r\n",
        "# Plot training and validation accuracy per epoch\r\n",
        "#------------------------------------------------\r\n",
        "plt.plot(epochs, acc, 'r', 'Training Accuracy')\r\n",
        "plt.plot(epochs, val_acc, 'b', 'Validaion loss')\r\n",
        "plt.title('Training and Validation accuracy')\r\n",
        "plt.figure()\r\n",
        "\r\n",
        "#------------------------------------------------\r\n",
        "# Plot training and validation loss per epoch\r\n",
        "#------------------------------------------------\r\n",
        "plt.plot(epochs, loss, 'r', 'Training Loss')\r\n",
        "plt.plot(epochs, val_loss, 'b', 'Validation Loss')\r\n",
        "plt.title('Training(RED) and Validation Loss(BLUE)')"
      ],
      "execution_count": 22,
      "outputs": [
        {
          "output_type": "execute_result",
          "data": {
            "text/plain": [
              "Text(0.5, 1.0, 'Training(RED) and Validation Loss(BLUE)')"
            ]
          },
          "metadata": {
            "tags": []
          },
          "execution_count": 22
        },
        {
          "output_type": "display_data",
          "data": {
            "image/png": "[encoded data removed]",
            "text/plain": [
              "<Figure size 432x288 with 1 Axes>"
            ]
          },
          "metadata": {
            "tags": [],
            "needs_background": "light"
          }
        },
        {
          "output_type": "display_data",
          "data": {
            "image/png": "[encoded data removed]",
            "text/plain": [
              "<Figure size 432x288 with 1 Axes>"
            ]
          },
          "metadata": {
            "tags": [],
            "needs_background": "light"
          }
        }
      ]
    },
    {
      "cell_type": "code",
      "metadata": {
        "colab": {
          "resources": {
            "http://localhost:8080/nbextensions/google.colab/files.js": {
              "data": "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",
              "ok": true,
              "headers": [
                [
                  "content-type",
                  "application/javascript"
                ]
              ],
              "status": 200,
              "status_text": ""
            }
          },
          "base_uri": "https://localhost:8080/",
          "height": 106
        },
        "id": "JdeoqK8xay8y",
        "outputId": "b0e71c31-e8b8-4662-9a8f-1d2a32b85ca3"
      },
      "source": [
        " # You should be able to upload an image here \r\n",
        "# and have it classified\r\n",
        "\r\n",
        "import numpy as np\r\n",
        "from google.colab import files\r\n",
        "from keras.preprocessing import image\r\n",
        "\r\n",
        "\r\n",
        "uploaded = files.upload()\r\n",
        "\r\n",
        "for fn in uploaded.keys():\r\n",
        "\r\n",
        "   # predicting images\r\n",
        "   path = '/content/' + fn\r\n",
        "   img = image.load_img(path, target_size = (150,150,3))\r\n",
        "   x = image.img_to_array(img)\r\n",
        "   x =np.expand_dims(x, axis = 0)\r\n",
        "\r\n",
        "   images = np.vstack([x])\r\n",
        "   classes = model.predict(images, batch_size = 10)\r\n",
        "   print(classes[0])\r\n",
        "\r\n",
        "   if classes[0] > 0.5:\r\n",
        "     print(fn + 'is a dog')\r\n",
        "   else:\r\n",
        "     print(fn + 'is a cat')"
      ],
      "execution_count": 23,
      "outputs": [
        {
          "output_type": "display_data",
          "data": {
            "text/html": [
              "\n",
              "     <input type=\"file\" id=\"files-2d995d35-1ad0-4e8c-a273-338b02603c0f\" name=\"files[]\" multiple disabled\n",
              "        style=\"border:none\" />\n",
              "     <output id=\"result-2d995d35-1ad0-4e8c-a273-338b02603c0f\">\n",
              "      Upload widget is only available when the cell has been executed in the\n",
              "      current browser session. Please rerun this cell to enable.\n",
              "      </output>\n",
              "      <script src=\"/nbextensions/google.colab/files.js\"></script> "
            ],
            "text/plain": [
              "<IPython.core.display.HTML object>"
            ]
          },
          "metadata": {
            "tags": []
          }
        },
        {
          "output_type": "stream",
          "text": [
            "Saving cat.jfif to cat.jfif\n",
            "[0.]\n",
            "cat.jfifis a cat\n"
          ],
          "name": "stdout"
        }
      ]
    }
  ]
}