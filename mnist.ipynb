{
  "nbformat": 4,
  "nbformat_minor": 0,
  "metadata": {
    "colab": {
      "name": "mnist.ipynb",
      "provenance": [],
      "collapsed_sections": []
    },
    "kernelspec": {
      "name": "python3",
      "display_name": "Python 3"
    }
  },
  "cells": [
    {
      "cell_type": "markdown",
      "metadata": {
        "id": "J6GY1CWizO1a"
      },
      "source": [
        "# Using Deep Neural Network for our mnist fashion data\r\n",
        "\r\n"
      ]
    },
    {
      "cell_type": "code",
      "metadata": {
        "id": "0CHxvO0izV_E"
      },
      "source": [
        "import tensorflow as tf\r\n",
        "from tensorflow import keras\r\n",
        "import numpy as np\r\n",
        "import matplotlib.pyplot as plt\r\n",
        "np.set_printoptions(linewidth= 200)\r\n"
      ],
      "execution_count": 16,
      "outputs": []
    },
    {
      "cell_type": "code",
      "metadata": {
        "colab": {
          "base_uri": "https://localhost:8080/"
        },
        "id": "oKHusCsM4G9D",
        "outputId": "aa8a6f3e-3015-4c94-eba5-2d69f48d6330"
      },
      "source": [
        "mnist = keras.datasets.fashion_mnist\r\n",
        "\r\n",
        "(training_images, training_labels), (test_images, test_labels) = mnist.load_data()\r\n",
        "\r\n",
        "training_images = training_images / 255.0\r\n",
        "test_images = test_images / 255.0\r\n",
        "# We flatten: the first layer should always be the same as the shape of your data\r\n",
        "model = keras.Sequential([keras.layers.Flatten(input_shape = (28, 28)), \r\n",
        "                          keras.layers.Dense(128, activation = 'relu'),\r\n",
        "                          keras.layers.Dense(10, activation = 'softmax')])\r\n",
        "model.compile(optimizer='adam', loss = 'sparse_categorical_crossentropy',metrics = ['accuracy'])\r\n",
        "model.fit(training_images,training_labels, epochs = 10)\r\n",
        "test_loss =model.evaluate(test_images,test_labels)\r\n"
      ],
      "execution_count": 8,
      "outputs": [
        {
          "output_type": "stream",
          "text": [
            "Epoch 1/10\n",
            "1875/1875 [==============================] - 4s 2ms/step - loss: 0.6245 - accuracy: 0.7851\n",
            "Epoch 2/10\n",
            "1875/1875 [==============================] - 3s 2ms/step - loss: 0.3831 - accuracy: 0.8626\n",
            "Epoch 3/10\n",
            "1875/1875 [==============================] - 3s 2ms/step - loss: 0.3341 - accuracy: 0.8782\n",
            "Epoch 4/10\n",
            "1875/1875 [==============================] - 3s 2ms/step - loss: 0.3109 - accuracy: 0.8869\n",
            "Epoch 5/10\n",
            "1875/1875 [==============================] - 3s 2ms/step - loss: 0.2933 - accuracy: 0.8915\n",
            "Epoch 6/10\n",
            "1875/1875 [==============================] - 3s 2ms/step - loss: 0.2788 - accuracy: 0.8960\n",
            "Epoch 7/10\n",
            "1875/1875 [==============================] - 3s 2ms/step - loss: 0.2636 - accuracy: 0.9024\n",
            "Epoch 8/10\n",
            "1875/1875 [==============================] - 3s 2ms/step - loss: 0.2573 - accuracy: 0.9042\n",
            "Epoch 9/10\n",
            "1875/1875 [==============================] - 3s 2ms/step - loss: 0.2459 - accuracy: 0.9074\n",
            "Epoch 10/10\n",
            "1875/1875 [==============================] - 3s 2ms/step - loss: 0.2366 - accuracy: 0.9125\n",
            "313/313 [==============================] - 0s 1ms/step - loss: 0.3277 - accuracy: 0.8850\n"
          ],
          "name": "stdout"
        }
      ]
    },
    {
      "cell_type": "code",
      "metadata": {
        "id": "8R1zVZsS6BbJ"
      },
      "source": [
        "classification = model.predict(test_images)"
      ],
      "execution_count": 22,
      "outputs": []
    },
    {
      "cell_type": "code",
      "metadata": {
        "colab": {
          "base_uri": "https://localhost:8080/"
        },
        "id": "fUnjWmBG7jyQ",
        "outputId": "ad58386f-81ab-43dd-85a3-f12b5385a843"
      },
      "source": [
        "classification[0]"
      ],
      "execution_count": 10,
      "outputs": [
        {
          "output_type": "execute_result",
          "data": {
            "text/plain": [
              "array([7.67907011e-07, 5.48982104e-09, 4.20195656e-09, 1.24950972e-09,\n",
              "       9.46585588e-10, 2.09892094e-02, 1.14074005e-07, 3.27694416e-03,\n",
              "       5.09841236e-08, 9.75732923e-01], dtype=float32)"
            ]
          },
          "metadata": {
            "tags": []
          },
          "execution_count": 10
        }
      ]
    },
    {
      "cell_type": "code",
      "metadata": {
        "colab": {
          "base_uri": "https://localhost:8080/"
        },
        "id": "dLYNL6P97l2k",
        "outputId": "8f8a4bcf-f299-4d11-9e44-aeb6a9e0032f"
      },
      "source": [
        "print(test_labels[0])"
      ],
      "execution_count": 23,
      "outputs": [
        {
          "output_type": "stream",
          "text": [
            "9\n"
          ],
          "name": "stdout"
        }
      ]
    },
    {
      "cell_type": "code",
      "metadata": {
        "colab": {
          "base_uri": "https://localhost:8080/",
          "height": 282
        },
        "id": "NcKHihYE7qMC",
        "outputId": "99a206d7-65df-40e4-a756-d68d233c198d"
      },
      "source": [
        "plt.imshow(test_images[0])"
      ],
      "execution_count": 18,
      "outputs": [
        {
          "output_type": "execute_result",
          "data": {
            "text/plain": [
              "<matplotlib.image.AxesImage at 0x7f5b3cdfdcc0>"
            ]
          },
          "metadata": {
            "tags": []
          },
          "execution_count": 18
        },
        {
          "output_type": "display_data",
          "data": {
            "image/png": "[encoded data removed]",
            "text/plain": [
              "<Figure size 432x288 with 1 Axes>"
            ]
          },
          "metadata": {
            "tags": [],
            "needs_background": "light"
          }
        }
      ]
    },
    {
      "cell_type": "markdown",
      "metadata": {
        "id": "I3zrNz4l9BML"
      },
      "source": [
        "# we will use Convnet to improve our accuracy and loss\r\n",
        "\r\n",
        "In short, you take an array (usually 3x3 or 5x5) and pass it over the image. By changing the underlying pixels based on the formula within that matrix, you can do things like edge detection. So, for example, if you look at the above link, you'll see a 3x3 that is defined for edge detection where the middle cell is 8, and all of its neighbors are -1. In this case, for each pixel, you would multiply its value by 8, then subtract the value of each neighbor. Do this for every pixel, and you'll end up with a new image that has the edges enhanced.\r\n",
        "\r\n",
        "\r\n",
        "The parameters of a convnet are very small compare to a fully connected layer, the reasons are :\r\n",
        "(i) Parameter sharing: A feature detector (such as vertical edge detector) that is useful in one part of the image is probably useful in another part of the image\r\n",
        "\r\n",
        "(ii) Spasity of connections: In each layer each output value depends on a small number of inputs( each value(features) of the output depends on only specific features of the input computed by the filter). So this makes it less prone to overfitting with smaller training sets\r\n",
        "\r\n",
        "(iii) capturing translation invariance :A picture of a cat shifted a couple of pixels to the right, is still pretty clearly a cat. This helps to encode the fact that,an image shifted a few pixels should result in pretty similar features and should probably be assigned the same label"
      ]
    },
    {
      "cell_type": "code",
      "metadata": {
        "colab": {
          "base_uri": "https://localhost:8080/"
        },
        "id": "zlx2TnuK9lPi",
        "outputId": "d471e8bd-2ee0-4930-ca35-32e867720527"
      },
      "source": [
        "# the common pattern of a conv is CONV -- POOL -- CONV --- FC -- FC -- SOFTMAX\r\n",
        "\r\n",
        "mnist = tf.keras.datasets.fashion_mnist\r\n",
        "(training_images, training_labels), (test_images, test_labels) = mnist.load_data()\r\n",
        "#That's because the first convolution expects a single tensor containing everything, \r\n",
        "#so instead of 60,000 28x28x1 items in a list, we have a single 4D list that is 60,000x28x28x1.\r\n",
        "#Before training, we’ll preprocess the data by reshaping it into the shape the network expects and scaling it so that all values are in the [0, 1] interval. \r\n",
        "#Previously, our training images, for instance, were stored in an array of shape (60000, 28, 28) of type uint8 with values in the [0, 255] interval. \r\n",
        "#We transform it into a float32 array of shape (60000, 28 * 28) with values between 0 and 1.\r\n",
        "training_images = training_images.reshape(60000, 28,28,1) \r\n",
        "training_images = training_images / 255.0\r\n",
        "test_images =   test_images.reshape(10000,28,28,1)\r\n",
        "test_images = test_images / 255.0\r\n",
        "model = keras.Sequential([keras.layers.Conv2D(64, (3,3),activation='relu',input_shape =(28,28,1)),\r\n",
        "                          keras.layers.MaxPool2D(2,2),\r\n",
        "                          keras.layers.Conv2D(64,(3,3), activation = 'relu'),\r\n",
        "                          keras.layers.MaxPool2D(2,2),\r\n",
        "                          keras.layers.Flatten(),\r\n",
        "                          keras.layers.Dense(128, activation = 'relu'),\r\n",
        "                          keras.layers.Dense(10, activation = 'softmax') ])\r\n",
        "\r\n",
        "model.compile(optimizer = 'adam', loss = 'sparse_categorical_crossentropy', metrics = ['accuracy'])\r\n",
        "\r\n",
        "model.fit(training_images, training_labels, epochs= 10)\r\n",
        "\r\n",
        "loss = model.evaluate(test_images, test_labels)"
      ],
      "execution_count": 28,
      "outputs": [
        {
          "output_type": "stream",
          "text": [
            "Epoch 1/10\n",
            "1875/1875 [==============================] - 82s 43ms/step - loss: 0.6008 - accuracy: 0.7848\n",
            "Epoch 2/10\n",
            "1875/1875 [==============================] - 82s 44ms/step - loss: 0.3011 - accuracy: 0.8896\n",
            "Epoch 3/10\n",
            "1875/1875 [==============================] - 80s 43ms/step - loss: 0.2518 - accuracy: 0.9049\n",
            "Epoch 4/10\n",
            "1875/1875 [==============================] - 80s 43ms/step - loss: 0.2136 - accuracy: 0.9199\n",
            "Epoch 5/10\n",
            "1875/1875 [==============================] - 80s 43ms/step - loss: 0.1860 - accuracy: 0.9310\n",
            "Epoch 6/10\n",
            "1875/1875 [==============================] - 80s 43ms/step - loss: 0.1631 - accuracy: 0.9387\n",
            "Epoch 7/10\n",
            "1875/1875 [==============================] - 80s 43ms/step - loss: 0.1401 - accuracy: 0.9471\n",
            "Epoch 8/10\n",
            "1875/1875 [==============================] - 81s 43ms/step - loss: 0.1203 - accuracy: 0.9549\n",
            "Epoch 9/10\n",
            "1875/1875 [==============================] - 81s 43ms/step - loss: 0.1055 - accuracy: 0.9606\n",
            "Epoch 10/10\n",
            "1875/1875 [==============================] - 80s 43ms/step - loss: 0.0892 - accuracy: 0.9670\n",
            "313/313 [==============================] - 4s 13ms/step - loss: 0.2900 - accuracy: 0.9128\n"
          ],
          "name": "stdout"
        }
      ]
    },
    {
      "cell_type": "code",
      "metadata": {
        "colab": {
          "base_uri": "https://localhost:8080/"
        },
        "id": "_giRQ0oPG40f",
        "outputId": "edfcae72-955f-4080-ef0d-8d08f8db91a9"
      },
      "source": [
        "model.summary()  "
      ],
      "execution_count": 29,
      "outputs": [
        {
          "output_type": "stream",
          "text": [
            "Model: \"sequential_6\"\n",
            "_________________________________________________________________\n",
            "Layer (type)                 Output Shape              Param #   \n",
            "=================================================================\n",
            "conv2d_4 (Conv2D)            (None, 26, 26, 64)        640       \n",
            "_________________________________________________________________\n",
            "max_pooling2d_4 (MaxPooling2 (None, 13, 13, 64)        0         \n",
            "_________________________________________________________________\n",
            "conv2d_5 (Conv2D)            (None, 11, 11, 64)        36928     \n",
            "_________________________________________________________________\n",
            "max_pooling2d_5 (MaxPooling2 (None, 5, 5, 64)          0         \n",
            "_________________________________________________________________\n",
            "flatten_6 (Flatten)          (None, 1600)              0         \n",
            "_________________________________________________________________\n",
            "dense_12 (Dense)             (None, 128)               204928    \n",
            "_________________________________________________________________\n",
            "dense_13 (Dense)             (None, 10)                1290      \n",
            "=================================================================\n",
            "Total params: 243,786\n",
            "Trainable params: 243,786\n",
            "Non-trainable params: 0\n",
            "_________________________________________________________________\n"
          ],
          "name": "stdout"
        }
      ]
    }
  ]
}