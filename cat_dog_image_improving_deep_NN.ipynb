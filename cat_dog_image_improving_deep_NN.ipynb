{
  "nbformat": 4,
  "nbformat_minor": 0,
  "metadata": {
    "colab": {
      "name": "cat_dog_image_improving_deep_NN.ipynb",
      "provenance": [],
      "collapsed_sections": [],
      "authorship_tag": "ABX9TyOcKxwmY1xIL7WXfpdNWVBV",
      "include_colab_link": true
    },
    "kernelspec": {
      "display_name": "Python 3",
      "name": "python3"
    }
  },
  "cells": [
    {
      "cell_type": "markdown",
      "metadata": {
        "id": "view-in-github",
        "colab_type": "text"
      },
      "source": [
        "<a href=\"https://colab.research.google.com/github/sheikh-bah/Deep_NN_-_CNN/blob/main/cat_dog_image_improving_deep_NN.ipynb\" target=\"_parent\"><img src=\"https://colab.research.google.com/assets/colab-badge.svg\" alt=\"Open In Colab\"/></a>"
      ]
    },
    {
      "cell_type": "code",
      "metadata": {
        "colab": {
          "base_uri": "https://localhost:8080/"
        },
        "id": "ydFvBs8kvX0-",
        "outputId": "61407b26-1d70-4b7c-d6b7-b9f6172a8243"
      },
      "source": [
        "!wget --no-check-certificate \\\r\n",
        "    https://storage.googleapis.com/mledu-datasets/cats_and_dogs_filtered.zip \\\r\n",
        "    -O /tmp/cats_and_dogs_filtered.zip\r\n",
        "  "
      ],
      "execution_count": null,
      "outputs": [
        {
          "output_type": "stream",
          "text": [
            "--2021-03-06 22:23:52--  https://storage.googleapis.com/mledu-datasets/cats_and_dogs_filtered.zip\n",
            "Resolving storage.googleapis.com (storage.googleapis.com)... 74.125.197.128, 74.125.142.128, 74.125.195.128, ...\n",
            "Connecting to storage.googleapis.com (storage.googleapis.com)|74.125.197.128|:443... connected.\n",
            "HTTP request sent, awaiting response... 200 OK\n",
            "Length: 68606236 (65M) [application/zip]\n",
            "Saving to: ‘/tmp/cats_and_dogs_filtered.zip’\n",
            "\n",
            "/tmp/cats_and_dogs_ 100%[===================>]  65.43M   110MB/s    in 0.6s    \n",
            "\n",
            "2021-03-06 22:23:53 (110 MB/s) - ‘/tmp/cats_and_dogs_filtered.zip’ saved [68606236/68606236]\n",
            "\n"
          ],
          "name": "stdout"
        }
      ]
    },
    {
      "cell_type": "code",
      "metadata": {
        "id": "bNNnFOS3viYA"
      },
      "source": [
        "import os\r\n",
        "import zipfile\r\n",
        "import tensorflow as tf\r\n",
        "from tensorflow import keras\r\n",
        "from tensorflow.keras.optimizers import RMSprop\r\n",
        "from tensorflow.keras.preprocessing.image import ImageDataGenerator"
      ],
      "execution_count": null,
      "outputs": []
    },
    {
      "cell_type": "code",
      "metadata": {
        "id": "ft8HmovHwE5q"
      },
      "source": [
        "# extract our zip file\r\n",
        "local_zip ='/tmp/cats_and_dogs_filtered.zip'\r\n",
        "zip_ref = zipfile.ZipFile(local_zip, 'r')\r\n",
        "zip_ref.extractall('/tmp')\r\n",
        "zip_ref.close()\r\n",
        "\r\n",
        "base_dir = ('/tmp/cats_and_dogs_filtered')\r\n",
        "# Drirectory with our training and validation data\r\n",
        "train_dir = os.path.join(base_dir, 'train')\r\n",
        "test_dir = os.path.join(base_dir, 'validation')\r\n",
        "\r\n",
        "\r\n",
        "# Directory with our training cats and dogs picture\r\n",
        "train_cats_dir = os.path.join(train_dir, 'cats')\r\n",
        "train_dogs_dir = os.path.join(train_dir, 'dogs')\r\n",
        "# Directory with our validation cats and dogs picture\r\n",
        "test_dogs_dir = os.path.join(test_dir, 'dogs')\r\n",
        "test_cats_dir = os.path.join(test_dir, 'cats')\r\n"
      ],
      "execution_count": null,
      "outputs": []
    },
    {
      "cell_type": "markdown",
      "metadata": {
        "id": "LpPJqvUL0LvJ"
      },
      "source": [
        "# Build our model\r\n",
        "\r\n",
        "Let's start with a model that's very effective at learning Cats v Dogs.\r\n",
        "\r\n",
        "Note that there are now 4 convolutional layers with 32, 64, 128 and 128 convolutions respectively.\r\n",
        "\r\n",
        "Also, this will train for 100 epochs, because I want to plot the graph of loss and accuracy.\r\n"
      ]
    },
    {
      "cell_type": "code",
      "metadata": {
        "id": "O3D5xGLD0FEO"
      },
      "source": [
        "model = tf.keras.models.Sequential([\r\n",
        "                                    tf.keras.layers.Conv2D(32,(3,3), input_shape = (150,150,3),activation= 'relu'),\r\n",
        "                                    tf.keras.layers.MaxPooling2D(2,2),\r\n",
        "                                    # second layer\r\n",
        "                                    tf.keras.layers.Conv2D(64, (3,3), activation = 'relu'),\r\n",
        "                                    tf.keras.layers.MaxPooling2D(2,2),\r\n",
        "                                    # third layer\r\n",
        "                                    tf.keras.layers.Conv2D(128,(3,3), activation= 'relu'),\r\n",
        "                                    tf.keras.layers.MaxPooling2D(2,2),\r\n",
        "                                    #fourth layer\r\n",
        "                                    tf.keras.layers.Conv2D(128,(3,3),activation = 'relu'),\r\n",
        "                                    tf.keras.layers.MaxPooling2D(2,2),\r\n",
        "                                    # Flatten the input in the Dense\r\n",
        "                                    tf.keras.layers.Flatten(),\r\n",
        "                                    tf.keras.layers.Dense(512, activation = 'relu'),\r\n",
        "                                    tf.keras.layers.Dense(1, activation = 'sigmoid')\r\n",
        "\r\n",
        "                              \r\n",
        "])"
      ],
      "execution_count": null,
      "outputs": []
    },
    {
      "cell_type": "markdown",
      "metadata": {
        "id": "HUmds4mR3FPT"
      },
      "source": [
        "# compile the model"
      ]
    },
    {
      "cell_type": "code",
      "metadata": {
        "id": "V4S2FW0Z2uJo"
      },
      "source": [
        "model.compile(optimizer=RMSprop(lr = 0.001), loss = 'binary_crossentropy', metrics = ['accuracy'])"
      ],
      "execution_count": null,
      "outputs": []
    },
    {
      "cell_type": "markdown",
      "metadata": {
        "id": "Mb0CsyJq3Whs"
      },
      "source": [
        "# image preprocessing"
      ]
    },
    {
      "cell_type": "code",
      "metadata": {
        "colab": {
          "base_uri": "https://localhost:8080/"
        },
        "id": "je85OLdb3Tzb",
        "outputId": "ae869cd9-d6a0-49d3-f252-535a68c2ace4"
      },
      "source": [
        "# Normalize image\r\n",
        "train_datagen = ImageDataGenerator(rescale= 1/ 255)\r\n",
        "test_datagen = ImageDataGenerator(rescale= 1/ 255)\r\n",
        "# data generator allows us to instantiate generators and their labels\r\n",
        "train_generator = train_datagen.flow_from_directory(\r\n",
        "                         train_dir,\r\n",
        "                         target_size = (150, 150),\r\n",
        "                         batch_size = 20,\r\n",
        "                         class_mode = 'binary'\r\n",
        ")\r\n",
        "\r\n",
        "validation_generator = test_datagen.flow_from_directory(\r\n",
        "                         test_dir,\r\n",
        "                         target_size = (150, 150),\r\n",
        "                         batch_size = 20,\r\n",
        "                         class_mode = 'binary'\r\n",
        ")"
      ],
      "execution_count": null,
      "outputs": [
        {
          "output_type": "stream",
          "text": [
            "Found 2000 images belonging to 2 classes.\n",
            "Found 1000 images belonging to 2 classes.\n"
          ],
          "name": "stdout"
        }
      ]
    },
    {
      "cell_type": "markdown",
      "metadata": {
        "id": "k6lbhMvP4sFq"
      },
      "source": [
        "# Train our model"
      ]
    },
    {
      "cell_type": "code",
      "metadata": {
        "colab": {
          "base_uri": "https://localhost:8080/"
        },
        "id": "aqM9jyN64pP0",
        "outputId": "979712ea-ac98-4ea8-da6f-5c9a306deba2"
      },
      "source": [
        "history = model.fit(\r\n",
        "    train_generator,\r\n",
        "    steps_per_epoch = 50,\r\n",
        "    epochs = 100,\r\n",
        "    validation_data = validation_generator,\r\n",
        "    validation_steps= 25,\r\n",
        "    verbose = 2\r\n",
        "\r\n",
        ")"
      ],
      "execution_count": null,
      "outputs": [
        {
          "output_type": "stream",
          "text": [
            "Epoch 1/100\n",
            "50/50 - 54s - loss: 0.8484 - accuracy: 0.5000 - val_loss: 0.6905 - val_accuracy: 0.5440\n",
            "Epoch 2/100\n",
            "50/50 - 51s - loss: 0.7061 - accuracy: 0.5170 - val_loss: 0.6945 - val_accuracy: 0.4780\n",
            "Epoch 3/100\n",
            "50/50 - 52s - loss: 0.7068 - accuracy: 0.5450 - val_loss: 1.5932 - val_accuracy: 0.5080\n",
            "Epoch 4/100\n",
            "50/50 - 52s - loss: 0.6838 - accuracy: 0.6040 - val_loss: 0.8100 - val_accuracy: 0.5280\n",
            "Epoch 5/100\n",
            "50/50 - 52s - loss: 0.6296 - accuracy: 0.6520 - val_loss: 1.8466 - val_accuracy: 0.4940\n",
            "Epoch 6/100\n",
            "50/50 - 52s - loss: 0.6654 - accuracy: 0.6550 - val_loss: 0.5829 - val_accuracy: 0.6840\n",
            "Epoch 7/100\n",
            "50/50 - 58s - loss: 0.5877 - accuracy: 0.7070 - val_loss: 0.5762 - val_accuracy: 0.6980\n",
            "Epoch 8/100\n",
            "50/50 - 53s - loss: 0.5759 - accuracy: 0.7020 - val_loss: 0.6100 - val_accuracy: 0.6900\n",
            "Epoch 9/100\n",
            "50/50 - 52s - loss: 0.5080 - accuracy: 0.7570 - val_loss: 0.6334 - val_accuracy: 0.6160\n",
            "Epoch 10/100\n",
            "50/50 - 52s - loss: 0.5175 - accuracy: 0.7460 - val_loss: 0.6443 - val_accuracy: 0.6620\n",
            "Epoch 11/100\n",
            "50/50 - 52s - loss: 0.4988 - accuracy: 0.7640 - val_loss: 0.6139 - val_accuracy: 0.6640\n",
            "Epoch 12/100\n",
            "50/50 - 52s - loss: 0.4532 - accuracy: 0.7950 - val_loss: 0.5541 - val_accuracy: 0.7220\n",
            "Epoch 13/100\n",
            "50/50 - 53s - loss: 0.4429 - accuracy: 0.7930 - val_loss: 0.6557 - val_accuracy: 0.7120\n",
            "Epoch 14/100\n",
            "50/50 - 52s - loss: 0.4274 - accuracy: 0.8160 - val_loss: 0.5910 - val_accuracy: 0.7160\n",
            "Epoch 15/100\n",
            "50/50 - 52s - loss: 0.3651 - accuracy: 0.8500 - val_loss: 0.7778 - val_accuracy: 0.7180\n",
            "Epoch 16/100\n",
            "50/50 - 52s - loss: 0.3546 - accuracy: 0.8430 - val_loss: 0.5939 - val_accuracy: 0.7680\n",
            "Epoch 17/100\n",
            "50/50 - 53s - loss: 0.3123 - accuracy: 0.8600 - val_loss: 0.5851 - val_accuracy: 0.7420\n",
            "Epoch 18/100\n",
            "50/50 - 52s - loss: 0.2984 - accuracy: 0.8660 - val_loss: 0.7026 - val_accuracy: 0.7240\n",
            "Epoch 19/100\n",
            "50/50 - 52s - loss: 0.2523 - accuracy: 0.9050 - val_loss: 0.6956 - val_accuracy: 0.7140\n",
            "Epoch 20/100\n",
            "50/50 - 52s - loss: 0.2420 - accuracy: 0.9030 - val_loss: 0.8364 - val_accuracy: 0.7300\n",
            "Epoch 21/100\n",
            "50/50 - 52s - loss: 0.2504 - accuracy: 0.9060 - val_loss: 0.7605 - val_accuracy: 0.7520\n",
            "Epoch 22/100\n",
            "50/50 - 53s - loss: 0.1971 - accuracy: 0.9140 - val_loss: 0.6998 - val_accuracy: 0.7100\n",
            "Epoch 23/100\n",
            "50/50 - 52s - loss: 0.1567 - accuracy: 0.9300 - val_loss: 0.9236 - val_accuracy: 0.7260\n",
            "Epoch 24/100\n",
            "50/50 - 53s - loss: 0.1600 - accuracy: 0.9450 - val_loss: 1.0614 - val_accuracy: 0.7060\n",
            "Epoch 25/100\n",
            "50/50 - 52s - loss: 0.1308 - accuracy: 0.9500 - val_loss: 1.2741 - val_accuracy: 0.7240\n",
            "Epoch 26/100\n",
            "50/50 - 54s - loss: 0.1442 - accuracy: 0.9470 - val_loss: 1.2445 - val_accuracy: 0.7260\n",
            "Epoch 27/100\n",
            "50/50 - 53s - loss: 0.1457 - accuracy: 0.9480 - val_loss: 1.0030 - val_accuracy: 0.7260\n",
            "Epoch 28/100\n",
            "50/50 - 53s - loss: 0.1164 - accuracy: 0.9540 - val_loss: 1.1816 - val_accuracy: 0.7000\n",
            "Epoch 29/100\n",
            "50/50 - 52s - loss: 0.1037 - accuracy: 0.9710 - val_loss: 1.1408 - val_accuracy: 0.7400\n",
            "Epoch 30/100\n",
            "50/50 - 53s - loss: 0.0866 - accuracy: 0.9670 - val_loss: 1.2969 - val_accuracy: 0.7300\n",
            "Epoch 31/100\n",
            "50/50 - 52s - loss: 0.0744 - accuracy: 0.9690 - val_loss: 1.5199 - val_accuracy: 0.7180\n",
            "Epoch 32/100\n",
            "50/50 - 52s - loss: 0.1400 - accuracy: 0.9680 - val_loss: 1.0929 - val_accuracy: 0.7180\n",
            "Epoch 33/100\n",
            "50/50 - 53s - loss: 0.0574 - accuracy: 0.9840 - val_loss: 1.5997 - val_accuracy: 0.7240\n",
            "Epoch 34/100\n",
            "50/50 - 53s - loss: 0.0616 - accuracy: 0.9740 - val_loss: 1.4288 - val_accuracy: 0.7500\n",
            "Epoch 35/100\n",
            "50/50 - 53s - loss: 0.0729 - accuracy: 0.9800 - val_loss: 1.7679 - val_accuracy: 0.7220\n",
            "Epoch 36/100\n",
            "50/50 - 53s - loss: 0.0627 - accuracy: 0.9820 - val_loss: 1.9511 - val_accuracy: 0.7180\n",
            "Epoch 37/100\n",
            "50/50 - 52s - loss: 0.0807 - accuracy: 0.9820 - val_loss: 1.6312 - val_accuracy: 0.7300\n",
            "Epoch 38/100\n",
            "50/50 - 53s - loss: 0.0675 - accuracy: 0.9830 - val_loss: 1.6444 - val_accuracy: 0.7580\n",
            "Epoch 39/100\n",
            "50/50 - 54s - loss: 0.0522 - accuracy: 0.9850 - val_loss: 2.0836 - val_accuracy: 0.7000\n",
            "Epoch 40/100\n",
            "50/50 - 53s - loss: 0.0266 - accuracy: 0.9880 - val_loss: 2.1334 - val_accuracy: 0.7500\n",
            "Epoch 41/100\n",
            "50/50 - 53s - loss: 0.0914 - accuracy: 0.9750 - val_loss: 1.9015 - val_accuracy: 0.7440\n",
            "Epoch 42/100\n",
            "50/50 - 53s - loss: 0.0865 - accuracy: 0.9870 - val_loss: 1.5763 - val_accuracy: 0.7460\n",
            "Epoch 43/100\n",
            "50/50 - 53s - loss: 0.0370 - accuracy: 0.9860 - val_loss: 1.9915 - val_accuracy: 0.7300\n",
            "Epoch 44/100\n",
            "50/50 - 53s - loss: 0.1032 - accuracy: 0.9730 - val_loss: 1.6815 - val_accuracy: 0.7160\n",
            "Epoch 45/100\n",
            "50/50 - 54s - loss: 0.0500 - accuracy: 0.9850 - val_loss: 2.0574 - val_accuracy: 0.7200\n",
            "Epoch 46/100\n",
            "50/50 - 53s - loss: 0.0871 - accuracy: 0.9790 - val_loss: 2.4287 - val_accuracy: 0.7540\n",
            "Epoch 47/100\n",
            "50/50 - 53s - loss: 0.0052 - accuracy: 0.9980 - val_loss: 2.3383 - val_accuracy: 0.7240\n",
            "Epoch 48/100\n",
            "50/50 - 54s - loss: 0.0920 - accuracy: 0.9790 - val_loss: 2.4004 - val_accuracy: 0.7380\n",
            "Epoch 49/100\n",
            "50/50 - 53s - loss: 0.0643 - accuracy: 0.9820 - val_loss: 2.4773 - val_accuracy: 0.7380\n",
            "Epoch 50/100\n",
            "50/50 - 53s - loss: 0.0580 - accuracy: 0.9900 - val_loss: 2.4529 - val_accuracy: 0.7220\n",
            "Epoch 51/100\n",
            "50/50 - 53s - loss: 0.0425 - accuracy: 0.9930 - val_loss: 2.6878 - val_accuracy: 0.7460\n",
            "Epoch 52/100\n",
            "50/50 - 53s - loss: 0.0685 - accuracy: 0.9830 - val_loss: 2.8081 - val_accuracy: 0.7140\n",
            "Epoch 53/100\n",
            "50/50 - 53s - loss: 0.0497 - accuracy: 0.9840 - val_loss: 2.3935 - val_accuracy: 0.7060\n",
            "Epoch 54/100\n",
            "50/50 - 54s - loss: 0.0671 - accuracy: 0.9860 - val_loss: 2.6559 - val_accuracy: 0.7360\n",
            "Epoch 55/100\n",
            "50/50 - 53s - loss: 0.0727 - accuracy: 0.9850 - val_loss: 2.6080 - val_accuracy: 0.7320\n",
            "Epoch 56/100\n",
            "50/50 - 53s - loss: 0.0645 - accuracy: 0.9850 - val_loss: 2.8961 - val_accuracy: 0.6900\n",
            "Epoch 57/100\n",
            "50/50 - 54s - loss: 0.0486 - accuracy: 0.9860 - val_loss: 3.1232 - val_accuracy: 0.7420\n",
            "Epoch 58/100\n",
            "50/50 - 53s - loss: 0.0240 - accuracy: 0.9930 - val_loss: 3.2854 - val_accuracy: 0.7000\n",
            "Epoch 59/100\n",
            "50/50 - 54s - loss: 0.0678 - accuracy: 0.9850 - val_loss: 2.0830 - val_accuracy: 0.7700\n",
            "Epoch 60/100\n",
            "50/50 - 55s - loss: 0.0130 - accuracy: 0.9980 - val_loss: 3.2575 - val_accuracy: 0.7280\n",
            "Epoch 61/100\n",
            "50/50 - 54s - loss: 0.0471 - accuracy: 0.9950 - val_loss: 2.6550 - val_accuracy: 0.7160\n",
            "Epoch 62/100\n",
            "50/50 - 55s - loss: 0.0165 - accuracy: 0.9920 - val_loss: 3.7776 - val_accuracy: 0.7280\n",
            "Epoch 63/100\n",
            "50/50 - 54s - loss: 2.5751e-04 - accuracy: 1.0000 - val_loss: 3.6078 - val_accuracy: 0.7600\n",
            "Epoch 64/100\n",
            "50/50 - 55s - loss: 0.1245 - accuracy: 0.9830 - val_loss: 3.8928 - val_accuracy: 0.7060\n",
            "Epoch 65/100\n",
            "50/50 - 56s - loss: 0.0109 - accuracy: 0.9950 - val_loss: 3.8672 - val_accuracy: 0.7320\n",
            "Epoch 66/100\n",
            "50/50 - 58s - loss: 0.0706 - accuracy: 0.9870 - val_loss: 3.1289 - val_accuracy: 0.7160\n",
            "Epoch 67/100\n",
            "50/50 - 55s - loss: 0.0518 - accuracy: 0.9850 - val_loss: 3.6521 - val_accuracy: 0.7180\n",
            "Epoch 68/100\n",
            "50/50 - 55s - loss: 0.0123 - accuracy: 0.9970 - val_loss: 2.7372 - val_accuracy: 0.7680\n",
            "Epoch 69/100\n",
            "50/50 - 55s - loss: 0.0190 - accuracy: 0.9940 - val_loss: 3.5387 - val_accuracy: 0.7660\n",
            "Epoch 70/100\n",
            "50/50 - 56s - loss: 0.1170 - accuracy: 0.9780 - val_loss: 3.7365 - val_accuracy: 0.7040\n",
            "Epoch 71/100\n",
            "50/50 - 55s - loss: 0.0161 - accuracy: 0.9950 - val_loss: 6.2629 - val_accuracy: 0.6780\n",
            "Epoch 72/100\n",
            "50/50 - 56s - loss: 0.0566 - accuracy: 0.9870 - val_loss: 3.4056 - val_accuracy: 0.7600\n",
            "Epoch 73/100\n",
            "50/50 - 53s - loss: 0.0591 - accuracy: 0.9830 - val_loss: 5.5432 - val_accuracy: 0.6860\n",
            "Epoch 74/100\n",
            "50/50 - 54s - loss: 0.0610 - accuracy: 0.9910 - val_loss: 4.8979 - val_accuracy: 0.7200\n",
            "Epoch 75/100\n",
            "50/50 - 55s - loss: 0.0820 - accuracy: 0.9830 - val_loss: 3.5177 - val_accuracy: 0.7280\n",
            "Epoch 76/100\n",
            "50/50 - 54s - loss: 0.0167 - accuracy: 0.9950 - val_loss: 3.5706 - val_accuracy: 0.7100\n",
            "Epoch 77/100\n",
            "50/50 - 55s - loss: 0.1149 - accuracy: 0.9850 - val_loss: 3.3301 - val_accuracy: 0.6940\n",
            "Epoch 78/100\n",
            "50/50 - 57s - loss: 0.0418 - accuracy: 0.9890 - val_loss: 3.0092 - val_accuracy: 0.7180\n",
            "Epoch 79/100\n",
            "50/50 - 53s - loss: 0.0783 - accuracy: 0.9850 - val_loss: 3.9682 - val_accuracy: 0.7340\n",
            "Epoch 80/100\n",
            "50/50 - 52s - loss: 0.0310 - accuracy: 0.9900 - val_loss: 5.3410 - val_accuracy: 0.7100\n",
            "Epoch 81/100\n",
            "50/50 - 52s - loss: 0.0189 - accuracy: 0.9960 - val_loss: 4.4890 - val_accuracy: 0.7120\n",
            "Epoch 82/100\n",
            "50/50 - 53s - loss: 0.0344 - accuracy: 0.9930 - val_loss: 5.0914 - val_accuracy: 0.7060\n",
            "Epoch 83/100\n",
            "50/50 - 52s - loss: 0.0588 - accuracy: 0.9900 - val_loss: 4.6024 - val_accuracy: 0.7240\n",
            "Epoch 84/100\n",
            "50/50 - 52s - loss: 0.0535 - accuracy: 0.9870 - val_loss: 2.8041 - val_accuracy: 0.7380\n",
            "Epoch 85/100\n",
            "50/50 - 52s - loss: 0.0490 - accuracy: 0.9910 - val_loss: 4.9062 - val_accuracy: 0.7400\n",
            "Epoch 86/100\n",
            "50/50 - 52s - loss: 0.0496 - accuracy: 0.9880 - val_loss: 4.1175 - val_accuracy: 0.7560\n",
            "Epoch 87/100\n",
            "50/50 - 53s - loss: 0.0830 - accuracy: 0.9900 - val_loss: 5.7100 - val_accuracy: 0.7380\n",
            "Epoch 88/100\n",
            "50/50 - 53s - loss: 0.0252 - accuracy: 0.9910 - val_loss: 4.7439 - val_accuracy: 0.7200\n",
            "Epoch 89/100\n",
            "50/50 - 54s - loss: 0.0741 - accuracy: 0.9810 - val_loss: 3.8320 - val_accuracy: 0.7120\n",
            "Epoch 90/100\n",
            "50/50 - 54s - loss: 6.9638e-04 - accuracy: 1.0000 - val_loss: 3.9118 - val_accuracy: 0.7540\n",
            "Epoch 91/100\n",
            "50/50 - 55s - loss: 0.0179 - accuracy: 0.9950 - val_loss: 5.8048 - val_accuracy: 0.7200\n",
            "Epoch 92/100\n",
            "50/50 - 55s - loss: 0.0962 - accuracy: 0.9880 - val_loss: 4.5035 - val_accuracy: 0.7000\n",
            "Epoch 93/100\n",
            "50/50 - 54s - loss: 3.3305e-04 - accuracy: 1.0000 - val_loss: 6.9921 - val_accuracy: 0.7040\n",
            "Epoch 94/100\n",
            "50/50 - 53s - loss: 0.1458 - accuracy: 0.9850 - val_loss: 5.1067 - val_accuracy: 0.7140\n",
            "Epoch 95/100\n",
            "50/50 - 54s - loss: 0.0514 - accuracy: 0.9930 - val_loss: 6.8798 - val_accuracy: 0.7100\n",
            "Epoch 96/100\n",
            "50/50 - 55s - loss: 0.0345 - accuracy: 0.9980 - val_loss: 5.2090 - val_accuracy: 0.6900\n",
            "Epoch 97/100\n",
            "50/50 - 54s - loss: 0.1303 - accuracy: 0.9860 - val_loss: 4.6202 - val_accuracy: 0.6820\n",
            "Epoch 98/100\n",
            "50/50 - 53s - loss: 0.0090 - accuracy: 0.9950 - val_loss: 4.8720 - val_accuracy: 0.7440\n",
            "Epoch 99/100\n",
            "50/50 - 53s - loss: 4.2675e-05 - accuracy: 1.0000 - val_loss: 5.3263 - val_accuracy: 0.7340\n",
            "Epoch 100/100\n",
            "50/50 - 56s - loss: 0.1810 - accuracy: 0.9880 - val_loss: 6.8036 - val_accuracy: 0.7060\n"
          ],
          "name": "stdout"
        }
      ]
    },
    {
      "cell_type": "code",
      "metadata": {
        "colab": {
          "base_uri": "https://localhost:8080/",
          "height": 545
        },
        "id": "GkYNFfKi5LZA",
        "outputId": "a8810c1e-d52c-4f0a-ca46-985d764092c7"
      },
      "source": [
        "\r\n",
        "import matplotlib.pyplot as plt\r\n",
        "\r\n",
        "acc = history.history['accuracy']\r\n",
        "val_acc = history.history['val_accuracy']\r\n",
        "loss = history.history['loss']\r\n",
        "val_loss = history.history['val_loss']\r\n",
        "\r\n",
        "epochs = range(len(acc))\r\n",
        "\r\n",
        "\r\n",
        "plt.plot(epochs, acc, 'bo', label = 'Training accuracy')\r\n",
        "plt.plot(epochs, val_acc, 'b', label = 'Validation accuracy')\r\n",
        "plt.title('Training and Validation accuracy')\r\n",
        "\r\n",
        "plt.figure()\r\n",
        "\r\n",
        "plt.plot(epochs, loss, 'bo', label = 'Loss')\r\n",
        "plt.plot(epochs, val_loss, 'b', label = 'validation loss')\r\n",
        "plt.title('Training and validation loss')\r\n",
        "plt.legend()\r\n",
        "\r\n",
        "plt.show()"
      ],
      "execution_count": null,
      "outputs": [
        {
          "output_type": "display_data",
          "data": {
            "image/png": "[encoded data removed]",
            "text/plain": [
              "<Figure size 432x288 with 1 Axes>"
            ]
          },
          "metadata": {
            "tags": [],
            "needs_background": "light"
          }
        },
        {
          "output_type": "display_data",
          "data": {
            "image/png": "[encoded data removed]",
            "text/plain": [
              "<Figure size 432x288 with 1 Axes>"
            ]
          },
          "metadata": {
            "tags": [],
            "needs_background": "light"
          }
        }
      ]
    },
    {
      "cell_type": "markdown",
      "metadata": {
        "id": "-A8E3mz3Pf9O"
      },
      "source": [
        "# Improving deep neural network using Image Augmentation"
      ]
    },
    {
      "cell_type": "markdown",
      "metadata": {
        "id": "SBp7ucmGCLiN"
      },
      "source": [
        "The Training Accuracy is close to 100%, and the validation accuracy is in the 70%-80% range. This is a great example of overfitting -- which in short means that it can do very well with images it has seen before, but not so well with images it hasn't. Let's see if we can do better to avoid overfitting -- and one simple method is to augment the images a bit. If you think about it, most pictures of a cat are very similar -- the ears are at the top, then the eyes, then the mouth etc. Things like the distance between the eyes and ears will always be quite similar too. \r\n",
        "\r\n",
        "What if we tweak with the images to change this up a bit -- rotate the image, squash it, etc.  That's what image augementation is all about. And there's an API that makes it easy..."
      ]
    },
    {
      "cell_type": "code",
      "metadata": {
        "id": "TRYYmKGqAPm5"
      },
      "source": [
        "local_zip = ('/tmp/cats_and_dogs_filtered.zip')\r\n",
        "zip_ref =zipfile.ZipFile(local_zip, 'r')\r\n",
        "zip_ref.extractall('/tmp') \r\n",
        "zip_ref.close()"
      ],
      "execution_count": null,
      "outputs": []
    },
    {
      "cell_type": "code",
      "metadata": {
        "id": "4hugoXF0Dknw"
      },
      "source": [
        "base_dir = '/tmp/cats_and_dogs_filtered'\r\n",
        "train_dir = os.path.join(base_dir, 'train')\r\n",
        "test_dir = os.path.join(base_dir, 'validation')\r\n",
        "\r\n",
        "cats_train_dir = os.path.join(train_dir, 'cats')\r\n",
        "dogs_train_dir = os.path.join(train_dir, 'dogs')\r\n",
        "\r\n",
        "\r\n",
        "cats_test_dir = os.path.join(test_dir, 'cats')\r\n",
        "dogs_test_dir = os.path.join(test_dir, 'dogs')"
      ],
      "execution_count": null,
      "outputs": []
    },
    {
      "cell_type": "markdown",
      "metadata": {
        "id": "QxsPL_HCHbBz"
      },
      "source": [
        "# Build the model"
      ]
    },
    {
      "cell_type": "code",
      "metadata": {
        "id": "30Imz1GlHgDj"
      },
      "source": [
        "model = tf.keras.models.Sequential([\r\n",
        "                                    # Firstlayer\r\n",
        "                                  tf.keras.layers.Conv2D(32, (3,3), activation = 'relu', input_shape = (150,150, 3)),\r\n",
        "                                  tf.keras.layers.MaxPooling2D(2,2),\r\n",
        "                                  # second layer\r\n",
        "                                  tf.keras.layers.Conv2D(64, (3,3), activation = 'relu'),\r\n",
        "                                  tf.keras.layers.MaxPooling2D(2,2),\r\n",
        "                                  # third layer\r\n",
        "                                  tf.keras.layers.Conv2D(128, (3,3), activation = 'relu'),\r\n",
        "                                  tf.keras.layers.MaxPooling2D(2,2),\r\n",
        "                                  # fourth layer\r\n",
        "                                  tf.keras.layers.Conv2D(128, (3,3), activation = 'relu'),\r\n",
        "                                  tf.keras.layers.MaxPooling2D(2,2),\r\n",
        "                                  # flatten\r\n",
        "                                  tf.keras.layers.Flatten(),\r\n",
        "                                  tf.keras.layers.Dense(512, activation = 'relu'),\r\n",
        "                                  tf.keras.layers.Dense(1, activation = 'sigmoid')\r\n",
        "\r\n",
        "])"
      ],
      "execution_count": null,
      "outputs": []
    },
    {
      "cell_type": "code",
      "metadata": {
        "id": "6afCONKzMLkp"
      },
      "source": [
        "history = model.compile(loss = 'binary_crossentropy', optimizer = RMSprop(lr= 1e-4), metrics = ['accuracy'] )"
      ],
      "execution_count": null,
      "outputs": []
    },
    {
      "cell_type": "code",
      "metadata": {
        "colab": {
          "base_uri": "https://localhost:8080/"
        },
        "id": "A1ECknTUF3S4",
        "outputId": "20be31d6-44c6-4dd1-d2f9-f69d27786a1b"
      },
      "source": [
        "# Now instead of the ImageGenerator just rescaling\r\n",
        "# the image, we also rotate and do other operations\r\n",
        "# Updated to do image augmentation\r\n",
        "train_datagen = ImageDataGenerator(\r\n",
        "    rescale = 1/255,\r\n",
        "    rotation_range = 40,\r\n",
        "    width_shift_range = 0.2,\r\n",
        "    height_shift_range = 0.2,\r\n",
        "    shear_range = 0.2,\r\n",
        "    zoom_range = 0.2,\r\n",
        "    horizontal_flip = True,\r\n",
        "    fill_mode = 'nearest' )\r\n",
        "\r\n",
        "test_datagen = ImageDataGenerator(rescale = 1/255)\r\n",
        "\r\n",
        "# Flow training images in batches of 20 using train_datagen generator\r\n",
        "train_generator = train_datagen.flow_from_directory(\r\n",
        "                  train_dir,\r\n",
        "                  target_size = (150, 150),\r\n",
        "                  batch_size = 20,\r\n",
        "                  class_mode = 'binary'\r\n",
        ")\r\n",
        " # Flow validation images in batches of 20 using test_datagen generator\r\n",
        "validation_generator = test_datagen.flow_from_directory(\r\n",
        "                     test_dir, target_size = (150,150),\r\n",
        "                     batch_size = 20,\r\n",
        "                     class_mode ='binary'\r\n",
        ")"
      ],
      "execution_count": null,
      "outputs": [
        {
          "output_type": "stream",
          "text": [
            "Found 2000 images belonging to 2 classes.\n",
            "Found 1000 images belonging to 2 classes.\n"
          ],
          "name": "stdout"
        }
      ]
    },
    {
      "cell_type": "code",
      "metadata": {
        "id": "XG9flYZurjfd"
      },
      "source": [
        "history = model.fit(train_generator, steps_per_epoch = 100,epochs = 100,\r\n",
        "                    validation_data = validation_generator, validation_steps = 50,verbose = 2 )"
      ],
      "execution_count": null,
      "outputs": []
    },
    {
      "cell_type": "code",
      "metadata": {
        "colab": {
          "base_uri": "https://localhost:8080/",
          "height": 545
        },
        "id": "qjG-BPAEMIEP",
        "outputId": "92f550ba-edc5-45eb-9fbe-f025bc49f31c"
      },
      "source": [
        "acc = history.history['accuracy']\r\n",
        "val_acc = history.history['val_accuracy']\r\n",
        "loss = history.history['loss']\r\n",
        "val_loss = history.history['val_loss']\r\n",
        "\r\n",
        "epochs = range(len(acc))\r\n",
        "\r\n",
        "plt.plot(epochs, acc,'bo', label ='Training accuracy')\r\n",
        "plt.plot(epochs, val_acc, 'b', label = 'Validation accuracy')\r\n",
        "plt.title('Training and validation accuracy')\r\n",
        "plt.figure()\r\n",
        "\r\n",
        "\r\n",
        "plt.plot(epochs, loss, 'bo', label = 'Training Loss')\r\n",
        "plt.plot(epochs, val_loss, 'b', label = 'Validation Loss')\r\n",
        "\r\n",
        "plt.title('Training and validation loss')\r\n",
        "plt.legend()\r\n",
        "\r\n",
        "plt.show()"
      ],
      "execution_count": null,
      "outputs": [
        {
          "output_type": "display_data",
          "data": {
            "image/png": "[encoded data removed]",
            "text/plain": [
              "<Figure size 432x288 with 1 Axes>"
            ]
          },
          "metadata": {
            "tags": [],
            "needs_background": "light"
          }
        },
        {
          "output_type": "display_data",
          "data": {
            "image/png": "[encoded data removed]",
            "text/plain": [
              "<Figure size 432x288 with 1 Axes>"
            ]
          },
          "metadata": {
            "tags": [],
            "needs_background": "light"
          }
        }
      ]
    },
    {
      "cell_type": "markdown",
      "metadata": {
        "id": "ELIJ_cpePuhI"
      },
      "source": [
        "# Improving deep neural network using Drop out regularization"
      ]
    },
    {
      "cell_type": "code",
      "metadata": {
        "id": "WvQVb3pakslB"
      },
      "source": [
        "base_dir = '/tmp/cats_and_dogs_filtered'\r\n",
        "train_dir = os.path.join(base_dir, 'train')\r\n",
        "cats_train_dir = os.path.join(train_dir, 'cats')\r\n",
        "dogs_train_dir = os.path.join(train_dir, 'dogs')\r\n",
        "validation_dir = os.path.join(base_dir, 'validation')\r\n",
        "cats_validation_dir = os.path.join(validation_dir, 'cats')\r\n",
        "dogs_validation_dir = os.path.join(validation_dir, 'dogs')"
      ],
      "execution_count": null,
      "outputs": []
    },
    {
      "cell_type": "code",
      "metadata": {
        "id": "025d6xtxmHts"
      },
      "source": [
        "model = tf.keras.models.Sequential([\r\n",
        "                                    tf.keras.layers.Conv2D(32, (3,3), input_shape = (150,150,3), activation = 'relu'),\r\n",
        "                                    tf.keras.layers.MaxPooling2D(2,2),\r\n",
        "                                    tf.keras.layers.Conv2D(64, (3,3), activation = 'relu'),\r\n",
        "                                    tf.keras.layers.MaxPooling2D(2,2),\r\n",
        "                                    tf.keras.layers.Conv2D(128, (3,3), activation = 'relu'),\r\n",
        "                                    tf.keras.layers.MaxPooling2D(2,2),\r\n",
        "                                    tf.keras.layers.Conv2D(128, (3,3), activation = 'relu'),\r\n",
        "                                    tf.keras.layers.MaxPooling2D(2,2),\r\n",
        "                                    tf.keras.layers.Dropout(0.5),\r\n",
        "                                    tf.keras.layers.Flatten(),\r\n",
        "                                    tf.keras.layers.Dense(512, activation = 'relu'),\r\n",
        "                                    tf.keras.layers.Dense(1, activation = 'sigmoid')\r\n",
        "])"
      ],
      "execution_count": null,
      "outputs": []
    },
    {
      "cell_type": "code",
      "metadata": {
        "id": "oZFAyUHxrfjm"
      },
      "source": [
        "model.compile(optimizer = RMSprop(lr = 0.001), loss = 'binary_crossentropy', metrics = ['accuracy'])"
      ],
      "execution_count": null,
      "outputs": []
    },
    {
      "cell_type": "code",
      "metadata": {
        "colab": {
          "base_uri": "https://localhost:8080/"
        },
        "id": "1BiuJRm5wPOV",
        "outputId": "23145b45-98e9-405d-acb8-fca5e2e87c0d"
      },
      "source": [
        "train_datagen = ImageDataGenerator(\r\n",
        "    rescale = 1/255,\r\n",
        "    rotation_range = 40,\r\n",
        "    width_shift_range = 0.2,\r\n",
        "    height_shift_range = 0.2,\r\n",
        "    shear_range = 0.2,\r\n",
        "    zoom_range = 0.2,\r\n",
        "    horizontal_flip = True,\r\n",
        "    fill_mode ='nearest'\r\n",
        "\r\n",
        "    )\r\n",
        "\r\n",
        "validation_datagen = ImageDataGenerator(rescale = 1/255)\r\n",
        "\r\n",
        "\r\n",
        "\r\n",
        "training_generator = train_datagen.flow_from_directory(\r\n",
        "                      train_dir,\r\n",
        "                      batch_size = 20,\r\n",
        "                      target_size = (150,150),\r\n",
        "                      class_mode = 'binary')\r\n",
        "\r\n",
        "validation_generator = validation_datagen.flow_from_directory(\r\n",
        "                       test_dir,\r\n",
        "                       batch_size = 20,\r\n",
        "                       target_size = (150,150),\r\n",
        "                       class_mode = 'binary'\r\n",
        ")"
      ],
      "execution_count": null,
      "outputs": [
        {
          "output_type": "stream",
          "text": [
            "Found 2000 images belonging to 2 classes.\n",
            "Found 1000 images belonging to 2 classes.\n"
          ],
          "name": "stdout"
        }
      ]
    },
    {
      "cell_type": "code",
      "metadata": {
        "colab": {
          "base_uri": "https://localhost:8080/"
        },
        "id": "4UuAv5-oDsVz",
        "outputId": "74d05b0e-f5ab-4ac2-b294-2332f4f6e538"
      },
      "source": [
        "history = model.fit(\r\n",
        "    training_generator,\r\n",
        "    steps_per_epoch = 100,\r\n",
        "    epochs= 100,\r\n",
        "    validation_data = validation_generator,\r\n",
        "    validation_steps = 50,\r\n",
        "    verbose =2\r\n",
        ")"
      ],
      "execution_count": null,
      "outputs": [
        {
          "output_type": "stream",
          "text": [
            "Epoch 1/100\n",
            "100/100 - 113s - loss: 0.6939 - accuracy: 0.5515 - val_loss: 0.6957 - val_accuracy: 0.4990\n",
            "Epoch 2/100\n",
            "100/100 - 112s - loss: 0.6793 - accuracy: 0.5970 - val_loss: 0.6407 - val_accuracy: 0.6570\n",
            "Epoch 3/100\n",
            "100/100 - 113s - loss: 0.6703 - accuracy: 0.6055 - val_loss: 0.6035 - val_accuracy: 0.6620\n",
            "Epoch 4/100\n",
            "100/100 - 114s - loss: 0.6502 - accuracy: 0.6250 - val_loss: 0.6369 - val_accuracy: 0.6060\n",
            "Epoch 5/100\n",
            "100/100 - 113s - loss: 0.6510 - accuracy: 0.6300 - val_loss: 0.7174 - val_accuracy: 0.6190\n",
            "Epoch 6/100\n",
            "100/100 - 112s - loss: 0.6359 - accuracy: 0.6450 - val_loss: 0.5871 - val_accuracy: 0.6770\n",
            "Epoch 7/100\n",
            "100/100 - 112s - loss: 0.6276 - accuracy: 0.6670 - val_loss: 0.5718 - val_accuracy: 0.6840\n",
            "Epoch 8/100\n",
            "100/100 - 113s - loss: 0.6277 - accuracy: 0.6620 - val_loss: 0.5954 - val_accuracy: 0.6860\n",
            "Epoch 9/100\n",
            "100/100 - 113s - loss: 0.6191 - accuracy: 0.6685 - val_loss: 0.5777 - val_accuracy: 0.7060\n",
            "Epoch 10/100\n",
            "100/100 - 112s - loss: 0.5975 - accuracy: 0.6845 - val_loss: 0.6385 - val_accuracy: 0.6460\n",
            "Epoch 11/100\n",
            "100/100 - 112s - loss: 0.6061 - accuracy: 0.6785 - val_loss: 0.6096 - val_accuracy: 0.7080\n",
            "Epoch 12/100\n",
            "100/100 - 112s - loss: 0.5966 - accuracy: 0.6790 - val_loss: 0.5989 - val_accuracy: 0.6710\n",
            "Epoch 13/100\n",
            "100/100 - 112s - loss: 0.5909 - accuracy: 0.6990 - val_loss: 0.5469 - val_accuracy: 0.7420\n",
            "Epoch 14/100\n",
            "100/100 - 112s - loss: 0.5832 - accuracy: 0.6950 - val_loss: 0.5295 - val_accuracy: 0.7360\n",
            "Epoch 15/100\n",
            "100/100 - 112s - loss: 0.5862 - accuracy: 0.6875 - val_loss: 0.5671 - val_accuracy: 0.7060\n",
            "Epoch 16/100\n",
            "100/100 - 112s - loss: 0.5850 - accuracy: 0.6925 - val_loss: 0.5652 - val_accuracy: 0.7040\n",
            "Epoch 17/100\n",
            "100/100 - 112s - loss: 0.5765 - accuracy: 0.7045 - val_loss: 0.5559 - val_accuracy: 0.7080\n",
            "Epoch 18/100\n",
            "100/100 - 112s - loss: 0.5776 - accuracy: 0.7130 - val_loss: 0.5854 - val_accuracy: 0.7090\n",
            "Epoch 19/100\n",
            "100/100 - 112s - loss: 0.5686 - accuracy: 0.7260 - val_loss: 0.5251 - val_accuracy: 0.7160\n",
            "Epoch 20/100\n",
            "100/100 - 112s - loss: 0.5518 - accuracy: 0.7175 - val_loss: 0.5121 - val_accuracy: 0.7480\n",
            "Epoch 21/100\n",
            "100/100 - 112s - loss: 0.5582 - accuracy: 0.7320 - val_loss: 0.5251 - val_accuracy: 0.7370\n",
            "Epoch 22/100\n",
            "100/100 - 113s - loss: 0.5667 - accuracy: 0.7075 - val_loss: 0.6892 - val_accuracy: 0.6960\n",
            "Epoch 23/100\n",
            "100/100 - 113s - loss: 0.5657 - accuracy: 0.7195 - val_loss: 0.4872 - val_accuracy: 0.7720\n",
            "Epoch 24/100\n",
            "100/100 - 113s - loss: 0.5508 - accuracy: 0.7240 - val_loss: 0.5021 - val_accuracy: 0.7530\n",
            "Epoch 25/100\n",
            "100/100 - 113s - loss: 0.5537 - accuracy: 0.7160 - val_loss: 0.5138 - val_accuracy: 0.7220\n",
            "Epoch 26/100\n",
            "100/100 - 112s - loss: 0.5459 - accuracy: 0.7215 - val_loss: 0.6057 - val_accuracy: 0.7300\n",
            "Epoch 27/100\n",
            "100/100 - 111s - loss: 0.5445 - accuracy: 0.7380 - val_loss: 0.4655 - val_accuracy: 0.7720\n",
            "Epoch 28/100\n",
            "100/100 - 112s - loss: 0.5462 - accuracy: 0.7350 - val_loss: 0.4671 - val_accuracy: 0.7820\n",
            "Epoch 29/100\n",
            "100/100 - 112s - loss: 0.5392 - accuracy: 0.7410 - val_loss: 0.5470 - val_accuracy: 0.7210\n",
            "Epoch 30/100\n",
            "100/100 - 111s - loss: 0.5444 - accuracy: 0.7330 - val_loss: 0.4612 - val_accuracy: 0.7840\n",
            "Epoch 31/100\n",
            "100/100 - 112s - loss: 0.5269 - accuracy: 0.7525 - val_loss: 0.5177 - val_accuracy: 0.7500\n",
            "Epoch 32/100\n",
            "100/100 - 113s - loss: 0.5235 - accuracy: 0.7510 - val_loss: 0.5757 - val_accuracy: 0.6900\n",
            "Epoch 33/100\n",
            "100/100 - 112s - loss: 0.5203 - accuracy: 0.7465 - val_loss: 0.5200 - val_accuracy: 0.7720\n",
            "Epoch 34/100\n",
            "100/100 - 112s - loss: 0.5221 - accuracy: 0.7645 - val_loss: 0.4987 - val_accuracy: 0.7660\n",
            "Epoch 35/100\n",
            "100/100 - 112s - loss: 0.5161 - accuracy: 0.7515 - val_loss: 0.4693 - val_accuracy: 0.7800\n",
            "Epoch 36/100\n",
            "100/100 - 112s - loss: 0.5017 - accuracy: 0.7645 - val_loss: 0.4990 - val_accuracy: 0.7600\n",
            "Epoch 37/100\n",
            "100/100 - 112s - loss: 0.5272 - accuracy: 0.7485 - val_loss: 0.4336 - val_accuracy: 0.8050\n",
            "Epoch 38/100\n",
            "100/100 - 112s - loss: 0.5086 - accuracy: 0.7515 - val_loss: 0.5113 - val_accuracy: 0.7800\n",
            "Epoch 39/100\n",
            "100/100 - 112s - loss: 0.4953 - accuracy: 0.7685 - val_loss: 0.7472 - val_accuracy: 0.7120\n",
            "Epoch 40/100\n",
            "100/100 - 112s - loss: 0.5246 - accuracy: 0.7585 - val_loss: 0.4954 - val_accuracy: 0.7580\n",
            "Epoch 41/100\n",
            "100/100 - 112s - loss: 0.4915 - accuracy: 0.7735 - val_loss: 0.4800 - val_accuracy: 0.7800\n",
            "Epoch 42/100\n",
            "100/100 - 112s - loss: 0.4944 - accuracy: 0.7785 - val_loss: 0.5030 - val_accuracy: 0.7880\n",
            "Epoch 43/100\n",
            "100/100 - 113s - loss: 0.4984 - accuracy: 0.7710 - val_loss: 0.6078 - val_accuracy: 0.7360\n",
            "Epoch 44/100\n",
            "100/100 - 112s - loss: 0.4825 - accuracy: 0.7750 - val_loss: 0.4418 - val_accuracy: 0.8130\n",
            "Epoch 45/100\n",
            "100/100 - 112s - loss: 0.4975 - accuracy: 0.7770 - val_loss: 0.4798 - val_accuracy: 0.7780\n",
            "Epoch 46/100\n",
            "100/100 - 113s - loss: 0.4950 - accuracy: 0.7690 - val_loss: 0.4374 - val_accuracy: 0.8180\n",
            "Epoch 47/100\n",
            "100/100 - 112s - loss: 0.4826 - accuracy: 0.7900 - val_loss: 0.4865 - val_accuracy: 0.7890\n",
            "Epoch 48/100\n",
            "100/100 - 115s - loss: 0.4904 - accuracy: 0.7705 - val_loss: 0.4386 - val_accuracy: 0.8000\n",
            "Epoch 49/100\n",
            "100/100 - 113s - loss: 0.4720 - accuracy: 0.7945 - val_loss: 0.5185 - val_accuracy: 0.7990\n",
            "Epoch 50/100\n",
            "100/100 - 114s - loss: 0.4952 - accuracy: 0.7750 - val_loss: 0.6343 - val_accuracy: 0.7600\n",
            "Epoch 51/100\n",
            "100/100 - 113s - loss: 0.4948 - accuracy: 0.7890 - val_loss: 0.4891 - val_accuracy: 0.7760\n",
            "Epoch 52/100\n",
            "100/100 - 112s - loss: 0.4775 - accuracy: 0.7905 - val_loss: 0.4813 - val_accuracy: 0.7940\n",
            "Epoch 53/100\n",
            "100/100 - 112s - loss: 0.4760 - accuracy: 0.7900 - val_loss: 0.4949 - val_accuracy: 0.8210\n",
            "Epoch 54/100\n",
            "100/100 - 112s - loss: 0.4804 - accuracy: 0.7875 - val_loss: 0.4772 - val_accuracy: 0.7810\n",
            "Epoch 55/100\n",
            "100/100 - 112s - loss: 0.4827 - accuracy: 0.7930 - val_loss: 0.5619 - val_accuracy: 0.7590\n",
            "Epoch 56/100\n",
            "100/100 - 112s - loss: 0.4700 - accuracy: 0.8040 - val_loss: 0.4382 - val_accuracy: 0.8100\n",
            "Epoch 57/100\n",
            "100/100 - 112s - loss: 0.4377 - accuracy: 0.8090 - val_loss: 0.9442 - val_accuracy: 0.7010\n",
            "Epoch 58/100\n",
            "100/100 - 112s - loss: 0.4757 - accuracy: 0.7980 - val_loss: 0.4623 - val_accuracy: 0.8140\n",
            "Epoch 59/100\n",
            "100/100 - 112s - loss: 0.4628 - accuracy: 0.8085 - val_loss: 0.4406 - val_accuracy: 0.7900\n",
            "Epoch 60/100\n",
            "100/100 - 112s - loss: 0.4594 - accuracy: 0.7985 - val_loss: 0.4294 - val_accuracy: 0.8250\n",
            "Epoch 61/100\n",
            "100/100 - 112s - loss: 0.4663 - accuracy: 0.7820 - val_loss: 0.4212 - val_accuracy: 0.8240\n",
            "Epoch 62/100\n",
            "100/100 - 112s - loss: 0.4724 - accuracy: 0.7910 - val_loss: 0.4335 - val_accuracy: 0.8100\n",
            "Epoch 63/100\n",
            "100/100 - 113s - loss: 0.4505 - accuracy: 0.8065 - val_loss: 0.4365 - val_accuracy: 0.7940\n",
            "Epoch 64/100\n",
            "100/100 - 112s - loss: 0.4883 - accuracy: 0.7945 - val_loss: 0.4077 - val_accuracy: 0.8310\n",
            "Epoch 65/100\n",
            "100/100 - 112s - loss: 0.4453 - accuracy: 0.7995 - val_loss: 0.4127 - val_accuracy: 0.8270\n",
            "Epoch 66/100\n",
            "100/100 - 113s - loss: 0.4517 - accuracy: 0.7965 - val_loss: 0.4284 - val_accuracy: 0.8260\n",
            "Epoch 67/100\n",
            "100/100 - 113s - loss: 0.4653 - accuracy: 0.7970 - val_loss: 0.5080 - val_accuracy: 0.8140\n",
            "Epoch 68/100\n",
            "100/100 - 113s - loss: 0.4724 - accuracy: 0.7810 - val_loss: 0.4431 - val_accuracy: 0.8260\n",
            "Epoch 69/100\n",
            "100/100 - 112s - loss: 0.4577 - accuracy: 0.8015 - val_loss: 0.6095 - val_accuracy: 0.7300\n",
            "Epoch 70/100\n",
            "100/100 - 112s - loss: 0.4766 - accuracy: 0.7970 - val_loss: 0.4039 - val_accuracy: 0.8300\n",
            "Epoch 71/100\n",
            "100/100 - 112s - loss: 0.4609 - accuracy: 0.8040 - val_loss: 0.4661 - val_accuracy: 0.8190\n",
            "Epoch 72/100\n",
            "100/100 - 113s - loss: 0.4525 - accuracy: 0.7935 - val_loss: 0.4102 - val_accuracy: 0.8360\n",
            "Epoch 73/100\n",
            "100/100 - 112s - loss: 0.4790 - accuracy: 0.7995 - val_loss: 0.4238 - val_accuracy: 0.7970\n",
            "Epoch 74/100\n",
            "100/100 - 113s - loss: 0.4729 - accuracy: 0.7970 - val_loss: 0.4147 - val_accuracy: 0.8280\n",
            "Epoch 75/100\n",
            "100/100 - 113s - loss: 0.4485 - accuracy: 0.8075 - val_loss: 0.4479 - val_accuracy: 0.8210\n",
            "Epoch 76/100\n",
            "100/100 - 113s - loss: 0.4611 - accuracy: 0.7955 - val_loss: 0.5344 - val_accuracy: 0.8230\n",
            "Epoch 77/100\n",
            "100/100 - 113s - loss: 0.4510 - accuracy: 0.8135 - val_loss: 0.4747 - val_accuracy: 0.8050\n",
            "Epoch 78/100\n",
            "100/100 - 113s - loss: 0.4329 - accuracy: 0.8065 - val_loss: 0.7080 - val_accuracy: 0.7890\n",
            "Epoch 79/100\n",
            "100/100 - 113s - loss: 0.4769 - accuracy: 0.7855 - val_loss: 0.5812 - val_accuracy: 0.7680\n",
            "Epoch 80/100\n",
            "100/100 - 113s - loss: 0.4814 - accuracy: 0.7865 - val_loss: 0.4569 - val_accuracy: 0.8250\n",
            "Epoch 81/100\n",
            "100/100 - 113s - loss: 0.4620 - accuracy: 0.8160 - val_loss: 0.4381 - val_accuracy: 0.8320\n",
            "Epoch 82/100\n",
            "100/100 - 113s - loss: 0.4452 - accuracy: 0.7945 - val_loss: 0.5687 - val_accuracy: 0.7690\n",
            "Epoch 83/100\n",
            "100/100 - 112s - loss: 0.4456 - accuracy: 0.8065 - val_loss: 0.4349 - val_accuracy: 0.8240\n",
            "Epoch 84/100\n",
            "100/100 - 112s - loss: 0.4719 - accuracy: 0.8080 - val_loss: 0.4080 - val_accuracy: 0.8200\n",
            "Epoch 85/100\n",
            "100/100 - 112s - loss: 0.4774 - accuracy: 0.7945 - val_loss: 0.3959 - val_accuracy: 0.8420\n",
            "Epoch 86/100\n",
            "100/100 - 113s - loss: 0.4516 - accuracy: 0.8000 - val_loss: 0.4222 - val_accuracy: 0.8320\n",
            "Epoch 87/100\n",
            "100/100 - 113s - loss: 0.4385 - accuracy: 0.7930 - val_loss: 0.5805 - val_accuracy: 0.7680\n",
            "Epoch 88/100\n",
            "100/100 - 113s - loss: 0.4586 - accuracy: 0.8100 - val_loss: 0.4372 - val_accuracy: 0.8330\n",
            "Epoch 89/100\n",
            "100/100 - 113s - loss: 0.4426 - accuracy: 0.8040 - val_loss: 0.7204 - val_accuracy: 0.8050\n",
            "Epoch 90/100\n",
            "100/100 - 112s - loss: 0.4347 - accuracy: 0.8105 - val_loss: 0.4227 - val_accuracy: 0.8340\n",
            "Epoch 91/100\n",
            "100/100 - 112s - loss: 0.4334 - accuracy: 0.8175 - val_loss: 0.4701 - val_accuracy: 0.8350\n",
            "Epoch 92/100\n",
            "100/100 - 113s - loss: 0.4552 - accuracy: 0.8030 - val_loss: 0.6083 - val_accuracy: 0.8070\n",
            "Epoch 93/100\n",
            "100/100 - 112s - loss: 0.4643 - accuracy: 0.8065 - val_loss: 0.7165 - val_accuracy: 0.8090\n",
            "Epoch 94/100\n",
            "100/100 - 112s - loss: 0.4507 - accuracy: 0.8005 - val_loss: 0.4918 - val_accuracy: 0.7730\n",
            "Epoch 95/100\n",
            "100/100 - 112s - loss: 0.4490 - accuracy: 0.8085 - val_loss: 0.4355 - val_accuracy: 0.8390\n",
            "Epoch 96/100\n",
            "100/100 - 112s - loss: 0.4378 - accuracy: 0.8165 - val_loss: 0.5200 - val_accuracy: 0.8060\n",
            "Epoch 97/100\n",
            "100/100 - 112s - loss: 0.4456 - accuracy: 0.8160 - val_loss: 0.4318 - val_accuracy: 0.8250\n",
            "Epoch 98/100\n",
            "100/100 - 112s - loss: 0.4457 - accuracy: 0.8070 - val_loss: 0.6187 - val_accuracy: 0.7950\n",
            "Epoch 99/100\n",
            "100/100 - 112s - loss: 0.4380 - accuracy: 0.8085 - val_loss: 1.0415 - val_accuracy: 0.7900\n",
            "Epoch 100/100\n",
            "100/100 - 112s - loss: 0.4735 - accuracy: 0.8100 - val_loss: 0.4301 - val_accuracy: 0.8280\n"
          ],
          "name": "stdout"
        }
      ]
    },
    {
      "cell_type": "code",
      "metadata": {
        "id": "atBE8wQ4r4sQ",
        "colab": {
          "base_uri": "https://localhost:8080/",
          "height": 545
        },
        "outputId": "e066f073-0128-4602-c539-3af68c00e22e"
      },
      "source": [
        "import matplotlib.pyplot as plt\r\n",
        "acc = history.history['accuracy']\r\n",
        "val_acc = history.history['val_accuracy']\r\n",
        "loss = history.history['loss']\r\n",
        "val_loss = history.history['val_loss']\r\n",
        "\r\n",
        "epochs = range(len(acc))\r\n",
        "\r\n",
        "\r\n",
        "plt.plot(epochs, acc, 'bo', label ='Training accuracy')\r\n",
        "plt.plot(epochs, val_acc, 'b', label = 'Validation accuracy')\r\n",
        "plt.title('Training and Validation accuracy')\r\n",
        "plt.figure()\r\n",
        "\r\n",
        "plt.plot(epochs, loss, 'bo', label = 'Training loss')\r\n",
        "plt.plot(epochs, val_loss, 'b', label = 'Validation loss')\r\n",
        "plt.title('Training and Validation loss')\r\n",
        "plt.legend()\r\n",
        "\r\n",
        "\r\n",
        "plt.show()\r\n"
      ],
      "execution_count": null,
      "outputs": [
        {
          "output_type": "display_data",
          "data": {
            "image/png": "[encoded data removed]",
            "text/plain": [
              "<Figure size 432x288 with 1 Axes>"
            ]
          },
          "metadata": {
            "tags": [],
            "needs_background": "light"
          }
        },
        {
          "output_type": "display_data",
          "data": {
            "image/png": "[encoded data removed]",
            "text/plain": [
              "<Figure size 432x288 with 1 Axes>"
            ]
          },
          "metadata": {
            "tags": [],
            "needs_background": "light"
          }
        }
      ]
    },
    {
      "cell_type": "code",
      "metadata": {
        "id": "D7HEe52bo3Qr"
      },
      "source": [
        ""
      ],
      "execution_count": null,
      "outputs": []
    }
  ]
}