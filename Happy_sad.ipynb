{
 "cells": [
  {
   "cell_type": "code",
   "execution_count": 1,
   "id": "imported-suicide",
   "metadata": {},
   "outputs": [],
   "source": [
    "import os\n",
    "import zipfile"
   ]
  },
  {
   "cell_type": "markdown",
   "id": "orange-orchestra",
   "metadata": {},
   "source": [
    "We extract our files "
   ]
  },
  {
   "cell_type": "code",
   "execution_count": 46,
   "id": "binary-terminology",
   "metadata": {},
   "outputs": [],
   "source": [
    "zip_file = 'C:/Users/sheikh/Downloads/happy-or-sad.zip'\n",
    "zip_ref = zipfile.ZipFile(zip_file, 'r')\n",
    "zip_ref.extractall('C:/Users/sheikh/Downloads/happy-or-sad')\n",
    "zip_ref.close()\n",
    "            \n",
    "                \n",
    "        \n",
    "# using Callback\n",
    "class MyCallback(tf.keras.callbacks.Callback):\n",
    "    def on_epoch_end(self, epoch, logs = {}):\n",
    "        if (logs.get('accuracy') > 0.999):\n",
    "            print(\"\\nReached 99% accuracy, stop training\")\n",
    "            self.model.stop_training = True\n",
    "Callbacks = MyCallback()"
   ]
  },
  {
   "cell_type": "code",
   "execution_count": 47,
   "id": "handed-indian",
   "metadata": {},
   "outputs": [],
   "source": [
    "train_happy = os.path.join('C:/Users/sheikh/Downloads/happy-or-sad', 'happy')\n",
    "train_sad = os.path.join('C:/Users/sheikh/Downloads/happy-or-sad', 'sad')"
   ]
  },
  {
   "cell_type": "code",
   "execution_count": 48,
   "id": "separated-patio",
   "metadata": {},
   "outputs": [],
   "source": [
    "train_happy_list = os.listdir(train_happy)"
   ]
  },
  {
   "cell_type": "code",
   "execution_count": 49,
   "id": "piano-fetish",
   "metadata": {},
   "outputs": [
    {
     "data": {
      "text/plain": [
       "40"
      ]
     },
     "execution_count": 49,
     "metadata": {},
     "output_type": "execute_result"
    }
   ],
   "source": [
    "len(train_happy_list)"
   ]
  },
  {
   "cell_type": "code",
   "execution_count": 50,
   "id": "legendary-lancaster",
   "metadata": {},
   "outputs": [],
   "source": [
    "train_sad_list = os.listdir(train_sad)"
   ]
  },
  {
   "cell_type": "code",
   "execution_count": 51,
   "id": "exotic-fusion",
   "metadata": {},
   "outputs": [
    {
     "data": {
      "text/plain": [
       "40"
      ]
     },
     "execution_count": 51,
     "metadata": {},
     "output_type": "execute_result"
    }
   ],
   "source": [
    "len(train_sad_list)"
   ]
  },
  {
   "cell_type": "markdown",
   "id": "preliminary-convergence",
   "metadata": {},
   "source": [
    "# We build the model"
   ]
  },
  {
   "cell_type": "code",
   "execution_count": 52,
   "id": "balanced-intelligence",
   "metadata": {},
   "outputs": [],
   "source": [
    "import tensorflow as tf\n",
    "from tensorflow import keras"
   ]
  },
  {
   "cell_type": "code",
   "execution_count": 53,
   "id": "worth-retrieval",
   "metadata": {},
   "outputs": [],
   "source": [
    "model = keras.models.Sequential([\n",
    "    # first convolution\n",
    "    keras.layers.Conv2D(64, (3,3), activation = 'relu',input_shape = (150,150, 3)),\n",
    "    keras.layers.MaxPooling2D(2,2),\n",
    "    #second convolution\n",
    "    keras.layers.Conv2D(32, (3,3), activation = 'relu'),\n",
    "    keras.layers.MaxPooling2D(2,2),\n",
    "    # third convolution\n",
    "    keras.layers.Conv2D(16, (3,3), activation = 'relu'),\n",
    "    keras.layers.MaxPooling2D(2,2),\n",
    "    # FLATTEN THE RESULT INTO THE DNN\n",
    "    keras.layers.Flatten(),\n",
    "    # 512 hidden neuron\n",
    "    keras.layers.Dense(512, activation = 'relu'),\n",
    "    # only 1 output neuron\n",
    "    keras.layers.Dense(1, activation = 'sigmoid')\n",
    "    \n",
    "    \n",
    "])"
   ]
  },
  {
   "cell_type": "code",
   "execution_count": 54,
   "id": "geographic-packaging",
   "metadata": {},
   "outputs": [
    {
     "name": "stdout",
     "output_type": "stream",
     "text": [
      "Model: \"sequential_1\"\n",
      "_________________________________________________________________\n",
      "Layer (type)                 Output Shape              Param #   \n",
      "=================================================================\n",
      "conv2d_3 (Conv2D)            (None, 148, 148, 64)      1792      \n",
      "_________________________________________________________________\n",
      "max_pooling2d_3 (MaxPooling2 (None, 74, 74, 64)        0         \n",
      "_________________________________________________________________\n",
      "conv2d_4 (Conv2D)            (None, 72, 72, 32)        18464     \n",
      "_________________________________________________________________\n",
      "max_pooling2d_4 (MaxPooling2 (None, 36, 36, 32)        0         \n",
      "_________________________________________________________________\n",
      "conv2d_5 (Conv2D)            (None, 34, 34, 16)        4624      \n",
      "_________________________________________________________________\n",
      "max_pooling2d_5 (MaxPooling2 (None, 17, 17, 16)        0         \n",
      "_________________________________________________________________\n",
      "flatten_1 (Flatten)          (None, 4624)              0         \n",
      "_________________________________________________________________\n",
      "dense_2 (Dense)              (None, 512)               2368000   \n",
      "_________________________________________________________________\n",
      "dense_3 (Dense)              (None, 1)                 513       \n",
      "=================================================================\n",
      "Total params: 2,393,393\n",
      "Trainable params: 2,393,393\n",
      "Non-trainable params: 0\n",
      "_________________________________________________________________\n"
     ]
    }
   ],
   "source": [
    "model.summary()"
   ]
  },
  {
   "cell_type": "code",
   "execution_count": 55,
   "id": "adjacent-usage",
   "metadata": {},
   "outputs": [],
   "source": [
    "from tensorflow.keras.optimizers import RMSprop\n",
    "\n",
    "model.compile(optimizer = RMSprop(lr = 0.001), loss = 'binary_crossentropy', metrics = ['accuracy'])"
   ]
  },
  {
   "cell_type": "markdown",
   "id": "geological-fairy",
   "metadata": {},
   "source": [
    "# image generator\n",
    "when the features are in different location.\n",
    "The image generator will create a feeder for our images and auto label them for us"
   ]
  },
  {
   "cell_type": "code",
   "execution_count": 56,
   "id": "primary-domestic",
   "metadata": {},
   "outputs": [],
   "source": [
    "from tensorflow.keras.preprocessing.image import ImageDataGenerator"
   ]
  },
  {
   "cell_type": "code",
   "execution_count": 57,
   "id": "current-segment",
   "metadata": {},
   "outputs": [
    {
     "name": "stdout",
     "output_type": "stream",
     "text": [
      "Found 80 images belonging to 2 classes.\n"
     ]
    }
   ],
   "source": [
    "# we rescale our image\n",
    "\n",
    "train_data_gen = ImageDataGenerator(rescale = 1/255)\n",
    "# we will call flow from the directory to load images\n",
    "train_generator = train_data_gen.flow_from_directory(\n",
    "    'C:/Users/sheikh/Downloads/happy-or-sad',\n",
    "    target_size = (150, 150),\n",
    "    batch_size = 8,\n",
    "    class_mode = 'binary')\n",
    "    \n"
   ]
  },
  {
   "cell_type": "markdown",
   "id": "anticipated-hollow",
   "metadata": {},
   "source": [
    "# Train the model"
   ]
  },
  {
   "cell_type": "code",
   "execution_count": 58,
   "id": "distinct-amendment",
   "metadata": {},
   "outputs": [
    {
     "name": "stdout",
     "output_type": "stream",
     "text": [
      "Epoch 1/20\n",
      "4/4 [==============================] - 11s 3s/step - loss: 1.2930 - accuracy: 0.5938\n",
      "Epoch 2/20\n",
      "4/4 [==============================] - 11s 3s/step - loss: 0.6642 - accuracy: 0.6562\n",
      "Epoch 3/20\n",
      "4/4 [==============================] - 11s 3s/step - loss: 0.6293 - accuracy: 0.5938\n",
      "Epoch 4/20\n",
      "4/4 [==============================] - 11s 3s/step - loss: 0.3919 - accuracy: 0.8125\n",
      "Epoch 5/20\n",
      "4/4 [==============================] - 11s 3s/step - loss: 0.5505 - accuracy: 0.6875\n",
      "Epoch 6/20\n",
      "4/4 [==============================] - 11s 3s/step - loss: 0.2403 - accuracy: 0.9688\n",
      "Epoch 7/20\n",
      "4/4 [==============================] - 11s 3s/step - loss: 0.2499 - accuracy: 0.8750\n",
      "Epoch 8/20\n",
      "4/4 [==============================] - 11s 3s/step - loss: 0.2170 - accuracy: 0.9062\n",
      "Epoch 9/20\n",
      "4/4 [==============================] - 11s 3s/step - loss: 0.1261 - accuracy: 0.9688\n",
      "Epoch 10/20\n",
      "4/4 [==============================] - 11s 3s/step - loss: 0.1865 - accuracy: 0.9062\n",
      "Epoch 11/20\n",
      "4/4 [==============================] - 12s 3s/step - loss: 0.1917 - accuracy: 0.9375\n",
      "Epoch 12/20\n",
      "4/4 [==============================] - 11s 3s/step - loss: 0.3961 - accuracy: 0.7812\n",
      "Epoch 13/20\n",
      "4/4 [==============================] - 11s 3s/step - loss: 0.0992 - accuracy: 0.9688\n",
      "Epoch 14/20\n",
      "4/4 [==============================] - 15s 4s/step - loss: 0.1115 - accuracy: 0.9688\n",
      "Epoch 15/20\n",
      "4/4 [==============================] - 26s 7s/step - loss: 0.1489 - accuracy: 0.9688\n",
      "Epoch 16/20\n",
      "4/4 [==============================] - 33s 8s/step - loss: 0.2361 - accuracy: 0.9375\n",
      "Epoch 17/20\n",
      "4/4 [==============================] - ETA: 0s - loss: 0.0242 - accuracy: 1.0000\n",
      "Reached 99% accuracy, stop training\n",
      "4/4 [==============================] - 15s 4s/step - loss: 0.0242 - accuracy: 1.0000\n"
     ]
    }
   ],
   "source": [
    "history = model.fit(train_generator, steps_per_epoch = 4, epochs = 20, verbose = 1, callbacks = [Callbacks])"
   ]
  },
  {
   "cell_type": "code",
   "execution_count": null,
   "id": "preceding-maryland",
   "metadata": {},
   "outputs": [],
   "source": []
  }
 ],
 "metadata": {
  "kernelspec": {
   "display_name": "Python 3",
   "language": "python",
   "name": "python3"
  },
  "language_info": {
   "codemirror_mode": {
    "name": "ipython",
    "version": 3
   },
   "file_extension": ".py",
   "mimetype": "text/x-python",
   "name": "python",
   "nbconvert_exporter": "python",
   "pygments_lexer": "ipython3",
   "version": "3.8.5"
  }
 },
 "nbformat": 4,
 "nbformat_minor": 5
}
