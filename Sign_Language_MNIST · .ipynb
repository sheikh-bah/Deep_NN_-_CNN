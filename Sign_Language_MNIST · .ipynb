{
 "cells": [
  {
   "cell_type": "code",
   "execution_count": 14,
   "id": "critical-oakland",
   "metadata": {},
   "outputs": [],
   "source": [
    "import tensorflow as tf\n",
    "import zipfile\n",
    "import os\n",
    "import csv\n",
    "import numpy as np\n",
    "from tensorflow import keras\n",
    "import matplotlib.pyplot as plt"
   ]
  },
  {
   "cell_type": "code",
   "execution_count": 2,
   "id": "eastern-restaurant",
   "metadata": {},
   "outputs": [],
   "source": [
    "def get_data(filename):\n",
    "    \n",
    "    with open(filename) as Training_file:\n",
    "        csv_reader = csv.reader(Training_file, delimiter = ',')\n",
    "        train_labels = []\n",
    "        train_image=  []\n",
    "        first_line = True\n",
    "        \n",
    "    \n",
    "        for row in csv_reader:\n",
    "            if first_line:\n",
    "                print('ignoring first line')\n",
    "                first_line = False\n",
    "            \n",
    "            else:\n",
    "                train_labels.append(row[0])  # The first value is the label\n",
    "                \n",
    "                image_data = row[1:785] # Each successive line contians 785 comma separated values between 0 and 255\n",
    "                image_data_as_array = np.array_split(image_data,28) #np.array_split to turn the 784 pixels into 28x28\n",
    "                train_image.append(image_data_as_array)\n",
    "                 # You are reading in strings, but need the values to be floats\n",
    "                 # Check out np.array().astype for a conversion\n",
    "        labels = np.array(train_labels).astype('float')\n",
    "        images = np.array(train_image).astype('float')\n",
    "        \n",
    "    return labels, images"
   ]
  },
  {
   "cell_type": "code",
   "execution_count": 3,
   "id": "informational-paper",
   "metadata": {},
   "outputs": [
    {
     "name": "stdout",
     "output_type": "stream",
     "text": [
      "ignoring first line\n"
     ]
    }
   ],
   "source": [
    "training_labels, training_images = get_data('sign_mnist_train.csv')"
   ]
  },
  {
   "cell_type": "code",
   "execution_count": 4,
   "id": "sapphire-victoria",
   "metadata": {},
   "outputs": [
    {
     "name": "stdout",
     "output_type": "stream",
     "text": [
      "ignoring first line\n"
     ]
    }
   ],
   "source": [
    "testing_labels, testing_images = get_data('sign_mnist_test.csv')"
   ]
  },
  {
   "cell_type": "code",
   "execution_count": 5,
   "id": "painted-knowing",
   "metadata": {},
   "outputs": [
    {
     "name": "stdout",
     "output_type": "stream",
     "text": [
      "shape of the training_image:  (27455, 28, 28)\n",
      "shape of the training_labels:  (27455,)\n",
      "shape of the test_images:  (7172, 28, 28)\n",
      "shape of the test_labels (7172,)\n"
     ]
    }
   ],
   "source": [
    "print('shape of the training_image: ',training_images.shape)\n",
    "print('shape of the training_labels: ', training_labels.shape)\n",
    "print('shape of the test_images: ', testing_images.shape)\n",
    "print('shape of the test_labels', testing_labels.shape)"
   ]
  },
  {
   "cell_type": "code",
   "execution_count": 6,
   "id": "billion-player",
   "metadata": {},
   "outputs": [],
   "source": [
    "training_images = np.expand_dims(training_images, axis = 3)"
   ]
  },
  {
   "cell_type": "code",
   "execution_count": 7,
   "id": "latin-rochester",
   "metadata": {},
   "outputs": [],
   "source": [
    "testing_images = np.expand_dims(testing_images, axis = 3)"
   ]
  },
  {
   "cell_type": "code",
   "execution_count": 8,
   "id": "statewide-exhaust",
   "metadata": {},
   "outputs": [],
   "source": [
    "# Create an ImageDataGenerator and do Image Augmentation\n",
    "from tensorflow.keras.preprocessing.image import ImageDataGenerator\n",
    "\n",
    "train_datagen = ImageDataGenerator(rescale = 1.0/255., \n",
    "                                   rotation_range = 40,\n",
    "                                   horizontal_flip = True,\n",
    "                                   fill_mode = 'nearest',\n",
    "                                    width_shift_range = 0.2,\n",
    "                                    height_shift_range = 0.2,\n",
    "                                    shear_range = 0.2,\n",
    "                                    zoom_range = 0.2 )\n",
    "\n",
    "\n",
    "validation_datagen = ImageDataGenerator(rescale = 1.0/ 255.)\n",
    "\n",
    "\n",
    "\n"
   ]
  },
  {
   "cell_type": "code",
   "execution_count": 9,
   "id": "plastic-position",
   "metadata": {},
   "outputs": [
    {
     "name": "stdout",
     "output_type": "stream",
     "text": [
      "(27455, 28, 28, 1)\n",
      "(7172, 28, 28, 1)\n"
     ]
    }
   ],
   "source": [
    "print(training_images.shape)\n",
    "print(testing_images.shape)\n"
   ]
  },
  {
   "cell_type": "code",
   "execution_count": 10,
   "id": "naked-understanding",
   "metadata": {},
   "outputs": [],
   "source": [
    "# Define the model\n",
    "\n",
    "model = keras.models.Sequential([\n",
    "                keras.layers.Conv2D(64, (3,3), activation = 'relu',input_shape = (28, 28, 1)),\n",
    "                keras.layers.MaxPooling2D(2,2),\n",
    "                keras.layers.Conv2D(32, (3,3), activation = 'relu'),\n",
    "                keras.layers.MaxPooling2D(2,2),\n",
    "                keras.layers.Flatten(),\n",
    "                keras.layers.Dense(128, activation = 'relu'),\n",
    "                keras.layers.Dense(26, activation = 'softmax')\n",
    "        \n",
    "])"
   ]
  },
  {
   "cell_type": "code",
   "execution_count": 11,
   "id": "experienced-intersection",
   "metadata": {},
   "outputs": [],
   "source": [
    "model.compile(optimizer = 'adam', loss = 'sparse_categorical_crossentropy', metrics = ['accuracy'])"
   ]
  },
  {
   "cell_type": "code",
   "execution_count": 12,
   "id": "weekly-church",
   "metadata": {},
   "outputs": [],
   "source": [
    "train_generator = train_datagen.flow(\n",
    "    training_images,\n",
    "    training_labels,\n",
    "    batch_size=32)\n",
    "\n",
    "\n",
    "\n",
    "validation_generator = validation_datagen.flow(\n",
    "    testing_images,\n",
    "    testing_labels,\n",
    "    batch_size=32)\n"
   ]
  },
  {
   "cell_type": "code",
   "execution_count": 13,
   "id": "medium-teach",
   "metadata": {},
   "outputs": [
    {
     "name": "stdout",
     "output_type": "stream",
     "text": [
      "Epoch 1/50\n",
      "858/857 [==============================] - 331s 386ms/step - loss: 2.9047 - accuracy: 0.1239 - val_loss: 2.4169 - val_accuracy: 0.2068\n",
      "Epoch 2/50\n",
      "858/857 [==============================] - 333s 388ms/step - loss: 2.2093 - accuracy: 0.3067 - val_loss: 1.6374 - val_accuracy: 0.4509\n",
      "Epoch 3/50\n",
      "858/857 [==============================] - 330s 385ms/step - loss: 1.8773 - accuracy: 0.3943 - val_loss: 1.4799 - val_accuracy: 0.4834\n",
      "Epoch 4/50\n",
      "858/857 [==============================] - 342s 398ms/step - loss: 1.6212 - accuracy: 0.4711 - val_loss: 1.3087 - val_accuracy: 0.5657\n",
      "Epoch 5/50\n",
      "858/857 [==============================] - 328s 382ms/step - loss: 1.4515 - accuracy: 0.5257 - val_loss: 0.9726 - val_accuracy: 0.6630\n",
      "Epoch 6/50\n",
      "858/857 [==============================] - 326s 380ms/step - loss: 1.3293 - accuracy: 0.5606 - val_loss: 0.8657 - val_accuracy: 0.6963\n",
      "Epoch 7/50\n",
      "858/857 [==============================] - 331s 386ms/step - loss: 1.2194 - accuracy: 0.5938 - val_loss: 0.7876 - val_accuracy: 0.7270\n",
      "Epoch 8/50\n",
      "858/857 [==============================] - 332s 387ms/step - loss: 1.1313 - accuracy: 0.6271 - val_loss: 0.6794 - val_accuracy: 0.7648\n",
      "Epoch 9/50\n",
      "858/857 [==============================] - 332s 387ms/step - loss: 1.0574 - accuracy: 0.6502 - val_loss: 0.6208 - val_accuracy: 0.7910\n",
      "Epoch 10/50\n",
      "858/857 [==============================] - 322s 375ms/step - loss: 1.0008 - accuracy: 0.6674 - val_loss: 0.6822 - val_accuracy: 0.7584\n",
      "Epoch 11/50\n",
      "858/857 [==============================] - 319s 371ms/step - loss: 0.9566 - accuracy: 0.6802 - val_loss: 0.6700 - val_accuracy: 0.7451\n",
      "Epoch 12/50\n",
      "858/857 [==============================] - 316s 369ms/step - loss: 0.9030 - accuracy: 0.6951 - val_loss: 0.5867 - val_accuracy: 0.8020\n",
      "Epoch 13/50\n",
      "858/857 [==============================] - 318s 370ms/step - loss: 0.8708 - accuracy: 0.7091 - val_loss: 0.5444 - val_accuracy: 0.7956\n",
      "Epoch 14/50\n",
      "858/857 [==============================] - 333s 388ms/step - loss: 0.8210 - accuracy: 0.7247 - val_loss: 0.5824 - val_accuracy: 0.7952\n",
      "Epoch 15/50\n",
      "858/857 [==============================] - 336s 391ms/step - loss: 0.7889 - accuracy: 0.7370 - val_loss: 0.5326 - val_accuracy: 0.8013\n",
      "Epoch 16/50\n",
      "858/857 [==============================] - 337s 393ms/step - loss: 0.7673 - accuracy: 0.7392 - val_loss: 0.4249 - val_accuracy: 0.8550\n",
      "Epoch 17/50\n",
      "858/857 [==============================] - 333s 388ms/step - loss: 0.7387 - accuracy: 0.7496 - val_loss: 0.4806 - val_accuracy: 0.8337\n",
      "Epoch 18/50\n",
      "858/857 [==============================] - 336s 391ms/step - loss: 0.7266 - accuracy: 0.7588 - val_loss: 0.4943 - val_accuracy: 0.8292\n",
      "Epoch 19/50\n",
      "858/857 [==============================] - 342s 398ms/step - loss: 0.7000 - accuracy: 0.7639 - val_loss: 0.4629 - val_accuracy: 0.8286\n",
      "Epoch 20/50\n",
      "858/857 [==============================] - 332s 387ms/step - loss: 0.6848 - accuracy: 0.7678 - val_loss: 0.4534 - val_accuracy: 0.8253\n",
      "Epoch 21/50\n",
      "858/857 [==============================] - 333s 388ms/step - loss: 0.6699 - accuracy: 0.7748 - val_loss: 0.4139 - val_accuracy: 0.8355\n",
      "Epoch 22/50\n",
      "858/857 [==============================] - 331s 386ms/step - loss: 0.6455 - accuracy: 0.7832 - val_loss: 0.5056 - val_accuracy: 0.8208\n",
      "Epoch 23/50\n",
      "858/857 [==============================] - 341s 397ms/step - loss: 0.6241 - accuracy: 0.7883 - val_loss: 0.4862 - val_accuracy: 0.8226\n",
      "Epoch 24/50\n",
      "858/857 [==============================] - 338s 394ms/step - loss: 0.6183 - accuracy: 0.7931 - val_loss: 0.3826 - val_accuracy: 0.8522\n",
      "Epoch 25/50\n",
      "858/857 [==============================] - 336s 391ms/step - loss: 0.6020 - accuracy: 0.7961 - val_loss: 0.4111 - val_accuracy: 0.8456\n",
      "Epoch 26/50\n",
      "858/857 [==============================] - 339s 395ms/step - loss: 0.5850 - accuracy: 0.8003 - val_loss: 0.3524 - val_accuracy: 0.8716\n",
      "Epoch 27/50\n",
      "858/857 [==============================] - 331s 385ms/step - loss: 0.5732 - accuracy: 0.8058 - val_loss: 0.3050 - val_accuracy: 0.8857\n",
      "Epoch 28/50\n",
      "858/857 [==============================] - 332s 387ms/step - loss: 0.5704 - accuracy: 0.8078 - val_loss: 0.3566 - val_accuracy: 0.8681\n",
      "Epoch 29/50\n",
      "858/857 [==============================] - 335s 390ms/step - loss: 0.5608 - accuracy: 0.8103 - val_loss: 0.3223 - val_accuracy: 0.8846\n",
      "Epoch 30/50\n",
      "858/857 [==============================] - 340s 396ms/step - loss: 0.5403 - accuracy: 0.8193 - val_loss: 0.3485 - val_accuracy: 0.8748\n",
      "Epoch 31/50\n",
      "858/857 [==============================] - 335s 391ms/step - loss: 0.5331 - accuracy: 0.8220 - val_loss: 0.4173 - val_accuracy: 0.8498\n",
      "Epoch 32/50\n",
      "858/857 [==============================] - 338s 394ms/step - loss: 0.5270 - accuracy: 0.8246 - val_loss: 0.3257 - val_accuracy: 0.8758\n",
      "Epoch 33/50\n",
      "858/857 [==============================] - 334s 389ms/step - loss: 0.5277 - accuracy: 0.8207 - val_loss: 0.3216 - val_accuracy: 0.8802\n",
      "Epoch 34/50\n",
      "858/857 [==============================] - 338s 393ms/step - loss: 0.5206 - accuracy: 0.8244 - val_loss: 0.3146 - val_accuracy: 0.8770\n",
      "Epoch 35/50\n",
      "858/857 [==============================] - 337s 393ms/step - loss: 0.5051 - accuracy: 0.8304 - val_loss: 0.2670 - val_accuracy: 0.9010\n",
      "Epoch 36/50\n",
      "858/857 [==============================] - 345s 403ms/step - loss: 0.4867 - accuracy: 0.8344 - val_loss: 0.3538 - val_accuracy: 0.8721\n",
      "Epoch 37/50\n",
      "858/857 [==============================] - 340s 397ms/step - loss: 0.4911 - accuracy: 0.8353 - val_loss: 0.3367 - val_accuracy: 0.8696\n",
      "Epoch 38/50\n",
      "858/857 [==============================] - 341s 397ms/step - loss: 0.4877 - accuracy: 0.8344 - val_loss: 0.3302 - val_accuracy: 0.8806\n",
      "Epoch 39/50\n",
      "858/857 [==============================] - 339s 395ms/step - loss: 0.4924 - accuracy: 0.8357 - val_loss: 0.2532 - val_accuracy: 0.9116\n",
      "Epoch 40/50\n",
      "858/857 [==============================] - 335s 390ms/step - loss: 0.4682 - accuracy: 0.8414 - val_loss: 0.3473 - val_accuracy: 0.8805\n",
      "Epoch 41/50\n",
      "858/857 [==============================] - 334s 389ms/step - loss: 0.4607 - accuracy: 0.8453 - val_loss: 0.3106 - val_accuracy: 0.8946\n",
      "Epoch 42/50\n",
      "858/857 [==============================] - 334s 389ms/step - loss: 0.4564 - accuracy: 0.8472 - val_loss: 0.2574 - val_accuracy: 0.9126\n",
      "Epoch 43/50\n",
      "858/857 [==============================] - 333s 388ms/step - loss: 0.4622 - accuracy: 0.8449 - val_loss: 0.2567 - val_accuracy: 0.9096\n",
      "Epoch 44/50\n",
      "858/857 [==============================] - 338s 394ms/step - loss: 0.4527 - accuracy: 0.8485 - val_loss: 0.2457 - val_accuracy: 0.9055\n",
      "Epoch 45/50\n",
      "858/857 [==============================] - 336s 392ms/step - loss: 0.4433 - accuracy: 0.8497 - val_loss: 0.2578 - val_accuracy: 0.9025\n",
      "Epoch 46/50\n",
      "858/857 [==============================] - 373s 434ms/step - loss: 0.4338 - accuracy: 0.8534 - val_loss: 0.2315 - val_accuracy: 0.9113\n",
      "Epoch 47/50\n",
      "858/857 [==============================] - 379s 441ms/step - loss: 0.4427 - accuracy: 0.8517 - val_loss: 0.2662 - val_accuracy: 0.9034\n",
      "Epoch 48/50\n",
      "858/857 [==============================] - 396s 462ms/step - loss: 0.4323 - accuracy: 0.8559 - val_loss: 0.2596 - val_accuracy: 0.9030\n",
      "Epoch 49/50\n",
      "858/857 [==============================] - 417s 486ms/step - loss: 0.4312 - accuracy: 0.8546 - val_loss: 0.2312 - val_accuracy: 0.9116\n",
      "Epoch 50/50\n",
      "858/857 [==============================] - 313s 365ms/step - loss: 0.4298 - accuracy: 0.8563 - val_loss: 0.2874 - val_accuracy: 0.8979\n"
     ]
    }
   ],
   "source": [
    "history = model.fit(train_generator,\n",
    "                              steps_per_epoch = len(training_images)/32,\n",
    "                              epochs = 50,\n",
    "                              validation_data = validation_generator,\n",
    "                              validation_steps = len(testing_images)/32)"
   ]
  },
  {
   "cell_type": "code",
   "execution_count": 23,
   "id": "normal-development",
   "metadata": {},
   "outputs": [
    {
     "name": "stdout",
     "output_type": "stream",
     "text": [
      "225/225 [==============================] - 30s 134ms/step - loss: 720.0535 - accuracy: 0.4214\n"
     ]
    },
    {
     "data": {
      "text/plain": [
       "[720.0535278320312, 0.4213608503341675]"
      ]
     },
     "execution_count": 23,
     "metadata": {},
     "output_type": "execute_result"
    }
   ],
   "source": [
    "model.evaluate(testing_images, testing_labels)"
   ]
  },
  {
   "cell_type": "code",
   "execution_count": 24,
   "id": "bearing-demonstration",
   "metadata": {},
   "outputs": [
    {
     "data": {
      "image/png": "[encoded data removed]",
      "text/plain": [
       "<Figure size 432x288 with 1 Axes>"
      ]
     },
     "metadata": {
      "needs_background": "light"
     },
     "output_type": "display_data"
    },
    {
     "data": {
      "image/png": "[encoded data removed]",
      "text/plain": [
       "<Figure size 432x288 with 1 Axes>"
      ]
     },
     "metadata": {
      "needs_background": "light"
     },
     "output_type": "display_data"
    }
   ],
   "source": [
    "acc = history.history['accuracy']\n",
    "val_acc = history.history['val_accuracy']\n",
    "loss = history.history['loss']\n",
    "val_loss = history.history['val_loss']\n",
    "\n",
    "\n",
    "epochs = range(len(acc))\n",
    "\n",
    "plt.plot(epochs, acc, 'r', label = 'Training Accuracy')\n",
    "plt.plot(epochs, val_acc, 'b', label = 'Validation Accuracy')\n",
    "plt.title('Training and Validation Accuracy')\n",
    "plt.legend(loc = 0)\n",
    "plt.figure()\n",
    "\n",
    "\n",
    "plt.plot(epochs, loss, 'r', label = 'Training Loss')\n",
    "plt.plot(epochs, val_loss, 'b', label = 'Validation Loss')\n",
    "plt.title('Training and Validation Loss')\n",
    "plt.legend()\n",
    "\n",
    "plt.show()"
   ]
  }
 ],
 "metadata": {
  "kernelspec": {
   "display_name": "Python 3",
   "language": "python",
   "name": "python3"
  },
  "language_info": {
   "codemirror_mode": {
    "name": "ipython",
    "version": 3
   },
   "file_extension": ".py",
   "mimetype": "text/x-python",
   "name": "python",
   "nbconvert_exporter": "python",
   "pygments_lexer": "ipython3",
   "version": "3.8.5"
  }
 },
 "nbformat": 4,
 "nbformat_minor": 5
}
