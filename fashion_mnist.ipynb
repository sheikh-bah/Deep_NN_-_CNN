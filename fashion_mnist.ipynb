{
  "nbformat": 4,
  "nbformat_minor": 0,
  "metadata": {
    "colab": {
      "name": "fashion_mnist.ipynb",
      "provenance": [],
      "collapsed_sections": []
    },
    "kernelspec": {
      "name": "python3",
      "display_name": "Python 3"
    }
  },
  "cells": [
    {
      "cell_type": "markdown",
      "metadata": {
        "id": "J6GY1CWizO1a"
      },
      "source": [
        "# Using Deep Neural Network for our mnist fashion data\r\n",
        "\r\n"
      ]
    },
    {
      "cell_type": "code",
      "metadata": {
        "id": "0CHxvO0izV_E"
      },
      "source": [
        "import tensorflow as tf\r\n",
        "from tensorflow import keras\r\n",
        "import numpy as np\r\n",
        "import matplotlib.pyplot as plt\r\n",
        "np.set_printoptions(linewidth= 200)\r\n"
      ],
      "execution_count": 1,
      "outputs": []
    },
    {
      "cell_type": "code",
      "metadata": {
        "colab": {
          "base_uri": "https://localhost:8080/"
        },
        "id": "oKHusCsM4G9D",
        "outputId": "320c00b3-38d8-4343-f9e7-9cca191660a6"
      },
      "source": [
        "mnist = keras.datasets.fashion_mnist\r\n",
        "\r\n",
        "(training_images, training_labels), (test_images, test_labels) = mnist.load_data()\r\n",
        "\r\n",
        "training_images = training_images / 255.0\r\n",
        "test_images = test_images / 255.0\r\n",
        "# We flatten: the first layer should always be the same as the shape of your data\r\n",
        "model = keras.Sequential([keras.layers.Flatten(input_shape = (28, 28)), \r\n",
        "                          keras.layers.Dense(128, activation = 'relu'),\r\n",
        "                          keras.layers.Dense(10, activation = 'softmax')])\r\n",
        "model.compile(optimizer='adam', loss = 'sparse_categorical_crossentropy',metrics = ['accuracy'])\r\n",
        "model.fit(training_images,training_labels, epochs = 20)\r\n",
        "test_loss =model.evaluate(test_images,test_labels)\r\n"
      ],
      "execution_count": 2,
      "outputs": [
        {
          "output_type": "stream",
          "text": [
            "Downloading data from https://storage.googleapis.com/tensorflow/tf-keras-datasets/train-labels-idx1-ubyte.gz\n",
            "32768/29515 [=================================] - 0s 0us/step\n",
            "Downloading data from https://storage.googleapis.com/tensorflow/tf-keras-datasets/train-images-idx3-ubyte.gz\n",
            "26427392/26421880 [==============================] - 0s 0us/step\n",
            "Downloading data from https://storage.googleapis.com/tensorflow/tf-keras-datasets/t10k-labels-idx1-ubyte.gz\n",
            "8192/5148 [===============================================] - 0s 0us/step\n",
            "Downloading data from https://storage.googleapis.com/tensorflow/tf-keras-datasets/t10k-images-idx3-ubyte.gz\n",
            "4423680/4422102 [==============================] - 0s 0us/step\n",
            "Epoch 1/20\n",
            "1875/1875 [==============================] - 4s 2ms/step - loss: 0.6301 - accuracy: 0.7838\n",
            "Epoch 2/20\n",
            "1875/1875 [==============================] - 3s 2ms/step - loss: 0.3888 - accuracy: 0.8603\n",
            "Epoch 3/20\n",
            "1875/1875 [==============================] - 4s 2ms/step - loss: 0.3461 - accuracy: 0.8737\n",
            "Epoch 4/20\n",
            "1875/1875 [==============================] - 4s 2ms/step - loss: 0.3175 - accuracy: 0.8827\n",
            "Epoch 5/20\n",
            "1875/1875 [==============================] - 4s 2ms/step - loss: 0.2981 - accuracy: 0.8894\n",
            "Epoch 6/20\n",
            "1875/1875 [==============================] - 3s 2ms/step - loss: 0.2866 - accuracy: 0.8943\n",
            "Epoch 7/20\n",
            "1875/1875 [==============================] - 3s 2ms/step - loss: 0.2705 - accuracy: 0.9002\n",
            "Epoch 8/20\n",
            "1875/1875 [==============================] - 3s 2ms/step - loss: 0.2605 - accuracy: 0.9026\n",
            "Epoch 9/20\n",
            "1875/1875 [==============================] - 3s 2ms/step - loss: 0.2521 - accuracy: 0.9050\n",
            "Epoch 10/20\n",
            "1875/1875 [==============================] - 3s 2ms/step - loss: 0.2382 - accuracy: 0.9112\n",
            "Epoch 11/20\n",
            "1875/1875 [==============================] - 3s 2ms/step - loss: 0.2318 - accuracy: 0.9134\n",
            "Epoch 12/20\n",
            "1875/1875 [==============================] - 3s 2ms/step - loss: 0.2253 - accuracy: 0.9159\n",
            "Epoch 13/20\n",
            "1875/1875 [==============================] - 4s 2ms/step - loss: 0.2187 - accuracy: 0.9176\n",
            "Epoch 14/20\n",
            "1875/1875 [==============================] - 4s 2ms/step - loss: 0.2028 - accuracy: 0.9228\n",
            "Epoch 15/20\n",
            "1875/1875 [==============================] - 3s 2ms/step - loss: 0.2053 - accuracy: 0.9229\n",
            "Epoch 16/20\n",
            "1875/1875 [==============================] - 3s 2ms/step - loss: 0.2032 - accuracy: 0.9222\n",
            "Epoch 17/20\n",
            "1875/1875 [==============================] - 3s 2ms/step - loss: 0.1915 - accuracy: 0.9279\n",
            "Epoch 18/20\n",
            "1875/1875 [==============================] - 4s 2ms/step - loss: 0.1863 - accuracy: 0.9299\n",
            "Epoch 19/20\n",
            "1875/1875 [==============================] - 3s 2ms/step - loss: 0.1820 - accuracy: 0.9311\n",
            "Epoch 20/20\n",
            "1875/1875 [==============================] - 3s 2ms/step - loss: 0.1821 - accuracy: 0.9305\n",
            "313/313 [==============================] - 0s 1ms/step - loss: 0.3651 - accuracy: 0.8913\n"
          ],
          "name": "stdout"
        }
      ]
    },
    {
      "cell_type": "code",
      "metadata": {
        "id": "8R1zVZsS6BbJ"
      },
      "source": [
        "classification = model.predict(test_images)"
      ],
      "execution_count": 3,
      "outputs": []
    },
    {
      "cell_type": "code",
      "metadata": {
        "colab": {
          "base_uri": "https://localhost:8080/"
        },
        "id": "fUnjWmBG7jyQ",
        "outputId": "eab927bc-2018-4c83-e24b-5c5782ce3fc1"
      },
      "source": [
        "classification[0]"
      ],
      "execution_count": 4,
      "outputs": [
        {
          "output_type": "execute_result",
          "data": {
            "text/plain": [
              "array([1.06118669e-08, 3.07987941e-11, 6.88245994e-09, 5.06473918e-10, 5.71177550e-11, 1.02123246e-04, 9.28994770e-10, 1.83490722e-03, 8.50579074e-09, 9.98062909e-01], dtype=float32)"
            ]
          },
          "metadata": {
            "tags": []
          },
          "execution_count": 4
        }
      ]
    },
    {
      "cell_type": "code",
      "metadata": {
        "colab": {
          "base_uri": "https://localhost:8080/"
        },
        "id": "dLYNL6P97l2k",
        "outputId": "eefb4a57-89f2-4cfd-e2e8-d20c8e8f21c8"
      },
      "source": [
        "print(test_labels[0])"
      ],
      "execution_count": 5,
      "outputs": [
        {
          "output_type": "stream",
          "text": [
            "9\n"
          ],
          "name": "stdout"
        }
      ]
    },
    {
      "cell_type": "code",
      "metadata": {
        "colab": {
          "base_uri": "https://localhost:8080/",
          "height": 282
        },
        "id": "NcKHihYE7qMC",
        "outputId": "79d992c9-fcad-4b09-b795-1dfaf8900c18"
      },
      "source": [
        "plt.imshow(test_images[0])"
      ],
      "execution_count": 6,
      "outputs": [
        {
          "output_type": "execute_result",
          "data": {
            "text/plain": [
              "<matplotlib.image.AxesImage at 0x7f063d2653c8>"
            ]
          },
          "metadata": {
            "tags": []
          },
          "execution_count": 6
        },
        {
          "output_type": "display_data",
          "data": {
            "image/png": "[encoded data removed]",
            "text/plain": [
              "<Figure size 432x288 with 1 Axes>"
            ]
          },
          "metadata": {
            "tags": [],
            "needs_background": "light"
          }
        }
      ]
    },
    {
      "cell_type": "markdown",
      "metadata": {
        "id": "I3zrNz4l9BML"
      },
      "source": [
        "# we will use Convnet to improve our accuracy and loss\r\n",
        "\r\n",
        "In short, you take an array (usually 3x3 or 5x5) and pass it over the image. By changing the underlying pixels based on the formula within that matrix, you can do things like edge detection. So, for example, if you look at the above link, you'll see a 3x3 that is defined for edge detection where the middle cell is 8, and all of its neighbors are -1. In this case, for each pixel, you would multiply its value by 8, then subtract the value of each neighbor. Do this for every pixel, and you'll end up with a new image that has the edges enhanced.\r\n",
        "\r\n",
        "\r\n",
        "The parameters of a convnet are very small compare to a fully connected layer, the reasons are :\r\n",
        "(i) Parameter sharing: A feature detector (such as vertical edge detector) that is useful in one part of the image is probably useful in another part of the image\r\n",
        "\r\n",
        "(ii) Spasity of connections: In each layer each output value depends on a small number of inputs( each value(features) of the output depends on only specific features of the input computed by the filter). So this makes it less prone to overfitting with smaller training sets\r\n",
        "\r\n",
        "(iii) capturing translation invariance :A picture of a cat shifted a couple of pixels to the right, is still pretty clearly a cat. This helps to encode the fact that,an image shifted a few pixels should result in pretty similar features and should probably be assigned the same label"
      ]
    },
    {
      "cell_type": "code",
      "metadata": {
        "colab": {
          "base_uri": "https://localhost:8080/"
        },
        "id": "zlx2TnuK9lPi",
        "outputId": "f9447094-04be-4b7f-94a0-46dcf54d1315"
      },
      "source": [
        "# the common pattern of a conv is CONV -- POOL -- CONV --- FC -- FC -- SOFTMAX\r\n",
        "class MyCallback(tf.keras.callbacks.Callback):\r\n",
        "  def on_epoch_end(self, epoch, logs = {}):\r\n",
        "    if(logs.get('loss') < 0.05):\r\n",
        "      print(\"\\nReached 99 % accuracy so cancelling training\")\r\n",
        "      self.model.stop_training = True\r\n",
        "callbacks = MyCallBack()\r\n",
        "\r\n",
        "\r\n",
        "mnist = tf.keras.datasets.fashion_mnist\r\n",
        "(training_images, training_labels), (test_images, test_labels) = mnist.load_data()\r\n",
        "#That's because the first convolution expects a single tensor containing everything, \r\n",
        "#so instead of 60,000 28x28x1 items in a list, we have a single 4D list that is 60,000x28x28x1.\r\n",
        "#Before training, we’ll preprocess the data by reshaping it into the shape the network expects and scaling it so that all values are in the [0, 1] interval. \r\n",
        "#Previously, our training images, for instance, were stored in an array of shape (60000, 28, 28) of type uint8 with values in the [0, 255] interval. \r\n",
        "#We transform it into a float32 array of shape (60000, 28 * 28) with values between 0 and 1.\r\n",
        "training_images = training_images.reshape(60000, 28,28,1) \r\n",
        "training_images = training_images / 255.0\r\n",
        "test_images =   test_images.reshape(10000,28,28,1)\r\n",
        "test_images = test_images / 255.0\r\n",
        "\r\n",
        "\r\n",
        "model = keras.Sequential([keras.layers.Conv2D(64, (3,3),activation='relu',input_shape =(28,28,1)),\r\n",
        "                          keras.layers.MaxPool2D(2,2),\r\n",
        "                          keras.layers.Conv2D(64,(3,3), activation = 'relu'),\r\n",
        "                          keras.layers.MaxPool2D(2,2),\r\n",
        "                          keras.layers.Flatten(),\r\n",
        "                          keras.layers.Dense(128, activation = 'relu'),\r\n",
        "                          keras.layers.Dense(10, activation = 'softmax') ])\r\n",
        "\r\n",
        "model.compile(optimizer = 'adam', loss = 'sparse_categorical_crossentropy', metrics = ['accuracy'])\r\n",
        "\r\n",
        "model.fit(training_images, training_labels, epochs= 20, callbacks = [callbacks])\r\n",
        "\r\n",
        "loss = model.evaluate(test_images, test_labels)"
      ],
      "execution_count": 19,
      "outputs": [
        {
          "output_type": "stream",
          "text": [
            "Epoch 1/20\n",
            "1875/1875 [==============================] - 80s 42ms/step - loss: 0.6031 - accuracy: 0.7836\n",
            "Epoch 2/20\n",
            "1875/1875 [==============================] - 78s 42ms/step - loss: 0.3064 - accuracy: 0.8883\n",
            "Epoch 3/20\n",
            "1875/1875 [==============================] - 79s 42ms/step - loss: 0.2450 - accuracy: 0.9113\n",
            "Epoch 4/20\n",
            "1875/1875 [==============================] - 77s 41ms/step - loss: 0.2099 - accuracy: 0.9221\n",
            "Epoch 5/20\n",
            "1875/1875 [==============================] - 76s 41ms/step - loss: 0.1813 - accuracy: 0.9335\n",
            "Epoch 6/20\n",
            "1875/1875 [==============================] - 77s 41ms/step - loss: 0.1619 - accuracy: 0.9392\n",
            "Epoch 7/20\n",
            "1875/1875 [==============================] - 76s 41ms/step - loss: 0.1402 - accuracy: 0.9475\n",
            "Epoch 8/20\n",
            "1875/1875 [==============================] - 78s 41ms/step - loss: 0.1231 - accuracy: 0.9539\n",
            "Epoch 9/20\n",
            "1875/1875 [==============================] - 77s 41ms/step - loss: 0.1081 - accuracy: 0.9589\n",
            "Epoch 10/20\n",
            "1875/1875 [==============================] - 75s 40ms/step - loss: 0.0922 - accuracy: 0.9656\n",
            "Epoch 11/20\n",
            "1875/1875 [==============================] - 87s 47ms/step - loss: 0.0834 - accuracy: 0.9691\n",
            "Epoch 12/20\n",
            "1875/1875 [==============================] - 90s 48ms/step - loss: 0.0713 - accuracy: 0.9737\n",
            "Epoch 13/20\n",
            "1875/1875 [==============================] - 87s 46ms/step - loss: 0.0655 - accuracy: 0.9752\n",
            "Epoch 14/20\n",
            "1875/1875 [==============================] - 87s 46ms/step - loss: 0.0587 - accuracy: 0.9777\n",
            "Epoch 15/20\n",
            "1875/1875 [==============================] - 85s 45ms/step - loss: 0.0509 - accuracy: 0.9812\n",
            "Epoch 16/20\n",
            "1875/1875 [==============================] - 83s 44ms/step - loss: 0.0465 - accuracy: 0.9834\n",
            "\n",
            "Reached 99 % accuracy so cancelling training\n",
            "313/313 [==============================] - 4s 14ms/step - loss: 0.4112 - accuracy: 0.9156\n"
          ],
          "name": "stdout"
        }
      ]
    },
    {
      "cell_type": "code",
      "metadata": {
        "id": "_giRQ0oPG40f"
      },
      "source": [
        "model.summary()  "
      ],
      "execution_count": null,
      "outputs": []
    },
    {
      "cell_type": "markdown",
      "metadata": {
        "id": "2RmA1ynA3e7A"
      },
      "source": [
        "# Visualizing the Convolutions and Pooling\r\n",
        "\r\n",
        "This code will show us the convolutions graphically. The print (test_labels[;100]) shows us the first 100 labels in the test set, and you can see that the ones at index 0, index 23 and index 28 are all the same value (9). They're all shoes. Let's take a look at the result of running the convolution on each, and you'll begin to see common features between them emerge. Now, when the DNN is training on that data, it's working with a lot less, and it's perhaps finding a commonality between shoes based on this convolution/pooling combination."
      ]
    },
    {
      "cell_type": "code",
      "metadata": {
        "colab": {
          "base_uri": "https://localhost:8080/"
        },
        "id": "pSTBL21n3XfY",
        "outputId": "49e3e708-ab06-41c6-80f1-ccb93fa878cf"
      },
      "source": [
        "print(test_labels[:100])"
      ],
      "execution_count": 8,
      "outputs": [
        {
          "output_type": "stream",
          "text": [
            "[9 2 1 1 6 1 4 6 5 7 4 5 7 3 4 1 2 4 8 0 2 5 7 9 1 4 6 0 9 3 8 8 3 3 8 0 7 5 7 9 6 1 3 7 6 7 2 1 2 2 4 4 5 8 2 2 8 4 8 0 7 7 8 5 1 1 2 3 9 8 7 0 2 6 2 3 1 2 8 4 1 8 5 9 5 0 3 2 0 6 5 3 6 7 1 8 0 1 4\n",
            " 2]\n"
          ],
          "name": "stdout"
        }
      ]
    },
    {
      "cell_type": "code",
      "metadata": {
        "colab": {
          "base_uri": "https://localhost:8080/",
          "height": 267
        },
        "id": "fIkUBDa9371a",
        "outputId": "26789a7a-ab38-4f18-8bc0-2c3da3ea1c1c"
      },
      "source": [
        "import matplotlib.pyplot as plt\r\n",
        "f, axarr = plt.subplots(3, 4)\r\n",
        "first_image = 0\r\n",
        "second_image = 7\r\n",
        "third_image = 26\r\n",
        "conv_number = 1\r\n",
        "from tensorflow.keras import models\r\n",
        "layer_output = [layer.output for layer in model.layers]\r\n",
        "activation_model = tf.keras.models.Model(inputs = model.input, outputs = layer_output)\r\n",
        "for x in range(0,4):\r\n",
        "  f1 = activation_model.predict(test_images[first_image].reshape(1,28,28,1))[x]\r\n",
        "  axarr[0 , x].imshow(f1[0,: ,:, conv_number], cmap = 'inferno')\r\n",
        "  axarr[0, x].grid(False)\r\n",
        "  f2 = activation_model.predict(test_images[second_image].reshape(1, 28, 28, 1))[x]\r\n",
        "  axarr[1, x].imshow(f2[0, : , :, conv_number], cmap = 'inferno')\r\n",
        "  axarr[1,x].grid(False)\r\n",
        "  f3 = activation_model.predict(test_images[third_image].reshape(1,28,28,1))[x]\r\n",
        "  axarr[2,x].imshow(f3[0, : , : , conv_number], cmap = 'inferno')\r\n",
        "  axarr[2, x].grid(False)"
      ],
      "execution_count": 11,
      "outputs": [
        {
          "output_type": "display_data",
          "data": {
            "image/png": "[encoded data removed]",
            "text/plain": [
              "<Figure size 432x288 with 12 Axes>"
            ]
          },
          "metadata": {
            "tags": [],
            "needs_background": "light"
          }
        }
      ]
    },
    {
      "cell_type": "code",
      "metadata": {
        "id": "DFaTcyQj71Y3"
      },
      "source": [
        ""
      ],
      "execution_count": null,
      "outputs": []
    }
  ]
}